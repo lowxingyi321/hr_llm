{
 "cells": [
  {
   "cell_type": "markdown",
   "metadata": {},
   "source": [
    "### Using Recursive Character Splitter"
   ]
  },
  {
   "cell_type": "code",
   "execution_count": 13,
   "metadata": {},
   "outputs": [
    {
     "data": {
      "text/plain": [
       "{'query': 'Am I eligible for maternity leave if I am not a citizen?',\n",
       " 'result': \"The provided context does not specify eligibility criteria for maternity leave for non-citizens. It mainly addresses the conditions and procedures for Singapore Citizen children and their mothers. To determine your eligibility, it would be best to consult your HR Business Partner or refer to your organization's specific maternity leave policy.\",\n",
       " 'source_documents': [Document(page_content='Officers whose NPL end after the first 8 weeks from the date of the birth of the child would be granted the remainder of the 4 or 8 weeks of EML, to be taken within 12 months from the date of the birth of the child. Any remaining EML not taken within this period will be forfeited.\\n\\n\\n\\n\\n\\nProcedure\\n\\nOfficers are to inform their HR Business Partner of their EDD and the planned start date of your ML (can be up to 4 weeks before EDD or upon delivery, please see diagram below).\\n\\nSubmit to HR Business Partner their Doctor\\'s Certification indicating the officer\\'s EDD\\n\\nInform your HR Business Partner of your ML plan (length of period to be taken consecutively after confinement)\\n\\nThe first 8 weeks of the ML (known in ESS as Maternity Leave) has to be taken consecutively.\\n\\n\\n\\nThe remaining 8 weeks of the ML (known in ESS as Extended Maternity Leave), or 4 weeks of the no pay ML (known in ESS as No Pay Maternity Leave) can be taken flexibly over a \\u200b12-month period from the child\\'s birth. An officer who wishes to take the remaining ML flexibly (i.e. returning to work) should discuss the arrangements with her supervisor early so that the necessary arrangements can be made. The period of Extended Maternity Leave or No Pay Maternity Leave will count towards the officer\\'s Years-In Service.\\u200b\\n\\n\\n\\nWhere appropriate, please be reminded to set up your Delegation via the \"My Delegations\" task in Workday for covering arrangement\\u200b during your maternity leave.\\n\\n\\n\\n\\n\\n\\n\\n\\n\\n\\n\\n\\n\\n\\nFrequently Asked Questions:\\n\\nQ1: I am a single/unmarried mother of a Singapore Citizen child. Apart from this, I meet all other eligible criteria for Maternity Leave. Am I eligible for the extended Government-Paid Maternity Leave?\\n\\nAnswer: If your Singapore Citizen child is born on/after 1 January 2017, you\\'ll be eligible for the full 16 weeks Maternity Leave.  If your child is born before 1 January 2017, you are entitled to 12 weeks of Maternity Leave. However, should you marry the child\\'s father within 12 months from the birth of the child, you will be eligible for the remaining extended maternity leave (4 weeks) in that year.', metadata={'source': './data/DRAFT 1_Maternity Leave Information.docx'}),\n",
       "  Document(page_content='Officers whose NPL end after the first 8 weeks from the date of the birth of the child would be granted the remainder of the 4 or 8 weeks of EML, to be taken within 12 months from the date of the birth of the child. Any remaining EML not taken within this period will be forfeited.\\n\\n\\n\\n\\n\\nProcedure\\n\\nOfficers are to inform their HR Business Partner of their EDD and the planned start date of your ML (can be up to 4 weeks before EDD or upon delivery, please see diagram below).\\n\\nSubmit to HR Business Partner their Doctor\\'s Certification indicating the officer\\'s EDD\\n\\nInform your HR Business Partner of your ML plan (length of period to be taken consecutively after confinement)\\n\\nThe first 8 weeks of the ML (known in ESS as Maternity Leave) has to be taken consecutively.\\n\\n\\n\\nThe remaining 8 weeks of the ML (known in ESS as Extended Maternity Leave), or 4 weeks of the no pay ML (known in ESS as No Pay Maternity Leave) can be taken flexibly over a \\u200b12-month period from the child\\'s birth. An officer who wishes to take the remaining ML flexibly (i.e. returning to work) should discuss the arrangements with her supervisor early so that the necessary arrangements can be made. The period of Extended Maternity Leave or No Pay Maternity Leave will count towards the officer\\'s Years-In Service.\\u200b\\n\\n\\n\\nWhere appropriate, please be reminded to set up your Delegation via the \"My Delegations\" task in Workday for covering arrangement\\u200b during your maternity leave.\\n\\n\\n\\n\\n\\n\\n\\n\\n\\n\\n\\n\\n\\n\\nFrequently Asked Questions:\\n\\nQ1: I am a single/unmarried mother of a Singapore Citizen child. Apart from this, I meet all other eligible criteria for Maternity Leave. Am I eligible for the extended Government-Paid Maternity Leave?\\n\\nAnswer: If your Singapore Citizen child is born on/after 1 January 2017, you\\'ll be eligible for the full 16 weeks Maternity Leave.  If your child is born before 1 January 2017, you are entitled to 12 weeks of Maternity Leave. However, should you marry the child\\'s father within 12 months from the birth of the child, you will be eligible for the remaining extended maternity leave (4 weeks) in that year.', metadata={'source': './data/DRAFT 1_Maternity Leave Information.docx'})]}"
      ]
     },
     "execution_count": 13,
     "metadata": {},
     "output_type": "execute_result"
    }
   ],
   "source": [
    "import tiktoken\n",
    "from langchain_community.document_loaders import Docx2txtLoader\n",
    "from langchain.text_splitter import RecursiveCharacterTextSplitter\n",
    "from langchain_community.vectorstores import Chroma\n",
    "from langchain_openai import OpenAIEmbeddings\n",
    "from langchain.chains import RetrievalQA\n",
    "from langchain_openai import ChatOpenAI\n",
    "\n",
    "\n",
    "model_default = \"gpt-4o\"\n",
    "\n",
    "def count_tokens(text):\n",
    "    encoding = tiktoken.encoding_for_model(model_default)\n",
    "    return len(encoding.encode(text))\n",
    "\n",
    "def count_tokens_from_message_rough(messages):\n",
    "    encoding = tiktoken.encoding_for_model(model_default)\n",
    "    value = ' '.join([x.get('content') for x in messages])\n",
    "    return len(encoding.encode(value))\n",
    "\n",
    "loader = Docx2txtLoader(\"./data/DRAFT 1_Maternity Leave Information.docx\")\n",
    "docs = loader.load()\n",
    "\n",
    "text_splitter = RecursiveCharacterTextSplitter(\n",
    "    separators=[\"\\n\\n\", \"\\n\", \" \", \"\"],\n",
    "    chunk_size=500,\n",
    "    chunk_overlap=50,\n",
    "    length_function=count_tokens\n",
    ")\n",
    "\n",
    "splitted_documents = text_splitter.split_documents(docs)\n",
    "\n",
    "embeddings_model = OpenAIEmbeddings(model='text-embedding-3-small')\n",
    "\n",
    "db = Chroma.from_documents(splitted_documents, embeddings_model, persist_directory=\"./chroma_db\")\n",
    "\n",
    "qa_chain = RetrievalQA.from_chain_type(\n",
    "    ChatOpenAI(model=model_default),\n",
    "    retriever=db.as_retriever(search_kwargs={\"k\": 2}),\n",
    "    return_source_documents=True\n",
    ")\n",
    "\n",
    "# help(ChatOpenAI)\n",
    "\n",
    "response = qa_chain.invoke(\"Am I eligible for maternity leave if I am not a citizen?\")\n",
    "response\n"
   ]
  },
  {
   "cell_type": "code",
   "execution_count": 23,
   "metadata": {},
   "outputs": [],
   "source": [
    "# print(splitted_documents[0].page_content)"
   ]
  },
  {
   "cell_type": "markdown",
   "metadata": {},
   "source": [
    "### Using SemanticChunker"
   ]
  },
  {
   "cell_type": "code",
   "execution_count": 16,
   "metadata": {},
   "outputs": [
    {
     "data": {
      "text/plain": [
       "[Document(page_content='\\u200b\\u200b\\u200bMaternity Leave is granted to female officers to look after their new-born child(ren).\\n\\n\\n\\nFor this section, \"confinement\" means the delivery of a child, and \"the organisation\" denotes Enterprise Singapore (IE and SPRING before 1 April 2018).\\n\\n\\n\\n1.  All female officers (single/married) will be eligible for Maternity Leave (ML), if:\\n\\nShe has been working with the organisation for a continuous duration of at least 3 months prior to the date of confinement.\\n\\nShe is still in service*; and\\n\\nThe child is born on/after 1 January 2017\\n\\n\\n\\n* An officer who is on maternity leave may tender her resignation and serve out her notice of resignation concurrently with maternity leave. The maternity leave will cease after the last day of service. \\n\\n\\n\\n Eligibility \\n\\nIf the child is a Singapore Citizen at the time of birth:\\n\\n The female officer will be eligible for 16 weeks of full pay ML (first 8 weeks must be taken consecutively) for all her confinements.\\n\\n\\n\\n If the child is not a Singapore Citizen at the time of birth:\\n\\nThe female officer will be eligible for 12 weeks of ML (of which the first 8 weeks will be on full pay, and subsequent 4 weeks no pay) for her first or second confinements (excluding legally adopted children or step children)*.\\n\\n* if she already has two or more children as a result of multiple births at the first confinement, she will also qualify for maternity leave for the second confinement).\\n\\n\\n\\nThe 4 weeks beyond the first 8 consecutive weeks of ML may be taken flexibly over a 12-month period from the birth of the child, subjected to mutual agreement between the organisation and the officer.\\n\\n The female officer\\'s 12 weeks of ML (point #3) will be converted to 16 weeks of full pay ML, should the child becomes Singapore Citizen before attaining 12 months of age.\\n\\n\\n\\n\\n\\n\\n\\n\\n\\nThe period of full pay ML will depend on when the child becomes a Singapore Citizen;\\n\\nIf the above criteria is met within the first 8 weeks of confinement, the female officer will be eligible for the remainder of the first 8 weeks (to be taken continuously) and another 8 weeks of paid ML.\\n\\nIf the above criteria is met after 8 weeks of the confinement, the officer may be granted up to 8 weeks of full pay ML, which may be taken flexibly over a 12-month period from the birth of the child, subject to mutual agreement between the Reporting Officer and the officer.\\u200b\\n\\nThere will be no retrospective payment for any ML (last 4 weeks of no pay ML) taken before the child obtains Singapore Citizenship.  \\n\\n\\n\\n \\n\\n\\n\\nNot Eligible for Maternity Leave (ML)\\n\\nA female officer is not eligible for paid ML, if:\\n\\nHer date of appointment is at least 3 months preceding the date of confinement,\\n\\nThe child is not a Singapore Citizen at the time of birth and is her third or subsequent confinements (excluding legally adopted children or step children)\\u200b\\n\\nThe female officer who is not eligible for paid ML may be granted her vacation leave (including deferred leave) and/or no-pay maternity leave (of up to 12 weeks) if she applies for such leave at least 1 week in advance of the commencement of the leave and informs her supervisor of the date on which she was confined as soon as practicable. The period of no-pay maternity leave will count towards an officer\\'s Years-In-Service and earn service benefits (i.e. leave and medical benefits).\\n\\nOfficers who are not eligible for paid ML will not be granted full-pay sick leave within the 8 weeks, immediately after confinement, unless her illness is not related to the confinement\\n\\n\\n\\n\\n\\n\\n\\nMaternity Leave Entitlement for Female Officers on No Pay Leave\\n\\nFemale Officers on No Pay Leave (NPL) will not be eligible for Maternity Leave (ML) during her NPL but she will be granted the remainder of the ML provision when she returns to work at the end of her NPL summarised as below:\\n\\n\\n\\nOfficers whose NPL end within the first 8 weeks from the date of the birth of the child would be granted paid ML for the remaining period of the first 8 weeks plus 4 or 8 weeks of EML, to be taken within 12 months from the date of the birth of the child.\\n\\n\\n\\nOfficers whose NPL end after the first 8 weeks from the date of the birth of the child would be granted the remainder of the 4 or 8 weeks of EML, to be taken within 12 months from the date of the birth of the child. Any remaining EML not taken within this period will be forfeited.\\n\\n\\n\\n\\n\\nProcedure\\n\\nOfficers are to inform their HR Business Partner of their EDD and the planned start date of your ML (can be up to 4 weeks before EDD or upon delivery, please see diagram below).\\n\\nSubmit to HR Business Partner their Doctor\\'s Certification indicating the officer\\'s EDD\\n\\nInform your HR Business Partner of your ML plan (length of period to be taken consecutively after confinement)\\n\\nThe first 8 weeks of the ML (known in ESS as Maternity Leave) has to be taken consecutively.\\n\\n\\n\\nThe remaining 8 weeks of the ML (known in ESS as Extended Maternity Leave), or 4 weeks of the no pay ML (known in ESS as No Pay Maternity Leave) can be taken flexibly over a \\u200b12-month period from the child\\'s birth. An officer who wishes to take the remaining ML flexibly (i.e. returning to work) should discuss the arrangements with her supervisor early so that the necessary arrangements can be made. The period of Extended Maternity Leave or No Pay Maternity Leave will count towards the officer\\'s Years-In Service.\\u200b\\n\\n\\n\\nWhere appropriate, please be reminded to set up your Delegation via the \"My Delegations\" task in Workday for covering arrangement\\u200b during your maternity leave.\\n\\n\\n\\n\\n\\n\\n\\n\\n\\n\\n\\n\\n\\n\\nFrequently Asked Questions:\\n\\nQ1: I am a single/unmarried mother of a Singapore Citizen child. Apart from this, I meet all other eligible criteria for Maternity Leave. Am I eligible for the extended Government-Paid Maternity Leave?\\n\\nAnswer: If your Singapore Citizen child is born on/after 1 January 2017, you\\'ll be eligible for the full 16 weeks Maternity Leave.  If your child is born before 1 January 2017, you are entitled to 12 weeks of Maternity Leave. However, should you marry the child\\'s father within 12 months from the birth of the child, you will be eligible for the remaining extended maternity leave (4 weeks) in that year.\\n\\n\\n\\nQ2: If my baby is born on 1 March and I take the first 8 weeks of Maternity Leave from March to April, can I then take 16 weeks of 50% time work from September to December as Extended Maternity Leave? If yes, how many working days is it equivalent to? \\n\\nAnswer: Subject to management\\'s approval, the last eight weeks (9th to 16th week) of Maternity Leave can be taken flexibly in the manner described within 12 months of the delivery. You should discuss with your supervisor and come to an agreement on the arrangement that will best meet the needs of both parties. 8 weeks of maternity leave is equivalent to 40 working days.\\n\\n\\n\\nQ3: Can an officer who has given birth to her child on a Saturday or Sunday commence her Maternity Leave on the next working day, i.e. Monday? Can an officer who gives birth after office hour on a weekday begin her Maternity Leave the following day? \\n\\nAnswer: Maternity Leave begins either up to 4 weeks before your EDD or on the date of delivery. It does not matter whether delivery takes place during office hours or on a non-working day.\\n\\n\\n\\nQ4: If my child is not a Singapore Citizen at birth (on/after 1 January 2017), and I am I single/unmarried mother, will I still be eligible to the 16 weeks of Maternity Leave? \\n\\nAnswer: If your child was not a Singapore Citizen at birth, Singapore Citizenship must be attained before he reaches 12 months of age for you to be eligible for the full 16 weeks Maternity Leave.\\n\\n\\n\\nQ5: I am an unwed mother. The estimated delivery date of my child was 1 January 2017 but I delivered a week before that. Will I still be eligible for the 16 weeks of Maternity Leave?\\n\\nAnswer: You would be eligible for the 16 weeks of Government-Paid Maternity Leave based on the estimated delivery date (supported by doctor\\'s certification), if your child is a Singapore Citizen.\\n\\n\\n\\nQ6: How is the number of flexible Paternity Leave, Maternity Leave, Adoption Leave days calculated for an officer on part-time employment?\\n\\nAnswer: It will be pro-rated based on the leave entitlement of an officer on full-time employment, using a full-time work week of 42 hours. E.g. If officer works 21 hours a week, he will be entitled to 5 days of Paternity Leave.', metadata={'source': './data/DRAFT 1_Maternity Leave Information.docx'})]"
      ]
     },
     "execution_count": 16,
     "metadata": {},
     "output_type": "execute_result"
    }
   ],
   "source": [
    "docs"
   ]
  },
  {
   "cell_type": "code",
   "execution_count": 22,
   "metadata": {},
   "outputs": [],
   "source": [
    "from langchain_experimental.text_splitter import SemanticChunker  \n",
    "from langchain_openai.embeddings import OpenAIEmbeddings\n",
    "\n",
    "# That's it. It is this simple.\n",
    "text_splitter = SemanticChunker(OpenAIEmbeddings())\n",
    "\n",
    "# Spit Text\n",
    "splitted_documents = text_splitter.split_documents(docs)  \n",
    "# print(splitted_documents[0].page_content)"
   ]
  },
  {
   "cell_type": "code",
   "execution_count": 25,
   "metadata": {},
   "outputs": [],
   "source": [
    "# This is the Core Part of the Code\n",
    "from langchain.retrievers.multi_query import MultiQueryRetriever\n",
    "from langchain_openai import ChatOpenAI\n",
    "\n",
    "question = \"What are the approaches to Task Decomposition?\"\n",
    "llm = ChatOpenAI(temperature=0)\n",
    "retriever_from_llm = MultiQueryRetriever.from_llm(\n",
    "    retriever=db.as_retriever(), llm=llm\n",
    ")"
   ]
  },
  {
   "cell_type": "code",
   "execution_count": 27,
   "metadata": {},
   "outputs": [],
   "source": [
    "# Set logging for the queries\n",
    "import logging\n",
    "\n",
    "# Refer to LangChain documentation to find which loggers to set\n",
    "# Different LangChain Classes/Modules have different loggers to set\n",
    "logging.basicConfig()\n",
    "logging.getLogger(\"langchain.retrievers.multi_query\").setLevel(logging.INFO)"
   ]
  },
  {
   "cell_type": "code",
   "execution_count": 29,
   "metadata": {},
   "outputs": [
    {
     "name": "stderr",
     "output_type": "stream",
     "text": [
      "INFO:langchain.retrievers.multi_query:Generated queries: ['What are the challenges faced by LLMs when it comes to performing mathematical calculations?', 'What factors contribute to the difficulties LLMs encounter when solving math problems?', 'How do LLMs struggle with mathematical computations and what are the underlying reasons for this?']\n"
     ]
    },
    {
     "data": {
      "text/plain": [
       "[Document(page_content=\"If the above criteria is met within the first 8 weeks of confinement, the female officer will be eligible for the remainder of the first 8 weeks (to be taken continuously) and another 8 weeks of paid ML.\\n\\nIf the above criteria is met after 8 weeks of the confinement, the officer may be granted up to 8 weeks of full pay ML, which may be taken flexibly over a 12-month period from the birth of the child, subject to mutual agreement between the Reporting Officer and the officer.\\u200b\\n\\nThere will be no retrospective payment for any ML (last 4 weeks of no pay ML) taken before the child obtains Singapore Citizenship.  \\n\\n\\n\\n \\n\\n\\n\\nNot Eligible for Maternity Leave (ML)\\n\\nA female officer is not eligible for paid ML, if:\\n\\nHer date of appointment is at least 3 months preceding the date of confinement,\\n\\nThe child is not a Singapore Citizen at the time of birth and is her third or subsequent confinements (excluding legally adopted children or step children)\\u200b\\n\\nThe female officer who is not eligible for paid ML may be granted her vacation leave (including deferred leave) and/or no-pay maternity leave (of up to 12 weeks) if she applies for such leave at least 1 week in advance of the commencement of the leave and informs her supervisor of the date on which she was confined as soon as practicable. The period of no-pay maternity leave will count towards an officer's Years-In-Service and earn service benefits (i.e. leave and medical benefits).\\n\\nOfficers who are not eligible for paid ML will not be granted full-pay sick leave within the 8 weeks, immediately after confinement, unless her illness is not related to the confinement\\n\\n\\n\\n\\n\\n\\n\\nMaternity Leave Entitlement for Female Officers on No Pay Leave\\n\\nFemale Officers on No Pay Leave (NPL) will not be eligible for Maternity Leave (ML) during her NPL but she will be granted the remainder of the ML provision when she returns to work at the end of her NPL summarised as below:\\n\\n\\n\\nOfficers whose NPL end within the first 8 weeks from the date of the birth of the child would be granted paid ML for the remaining period of the first 8 weeks plus 4 or 8 weeks of EML, to be taken within 12 months from the date of the birth of the child.\", metadata={'source': './data/DRAFT 1_Maternity Leave Information.docx'})]"
      ]
     },
     "execution_count": 29,
     "metadata": {},
     "output_type": "execute_result"
    }
   ],
   "source": [
    "question = \"Why do LLMs have problem with mathematical calculations?\"\n",
    "\n",
    "unique_docs = retriever_from_llm.invoke(question)\n",
    "unique_docs"
   ]
  },
  {
   "cell_type": "code",
   "execution_count": null,
   "metadata": {},
   "outputs": [],
   "source": []
  }
 ],
 "metadata": {
  "kernelspec": {
   "display_name": "venv",
   "language": "python",
   "name": "python3"
  },
  "language_info": {
   "codemirror_mode": {
    "name": "ipython",
    "version": 3
   },
   "file_extension": ".py",
   "mimetype": "text/x-python",
   "name": "python",
   "nbconvert_exporter": "python",
   "pygments_lexer": "ipython3",
   "version": "3.9.5"
  }
 },
 "nbformat": 4,
 "nbformat_minor": 2
}
