{
 "cells": [
  {
   "cell_type": "code",
   "execution_count": 1,
   "metadata": {},
   "outputs": [
    {
     "name": "stdout",
     "output_type": "stream",
     "text": [
      "c:\\Users\\xingy\\OneDrive\\Documents\\Personal\\Projects\\AI Bootcamp\\hr_bot\\venv\\Scripts\\python.exe\n",
      "C:\\Users\\xingy\\AppData\\Local\\Programs\\Python\\Python39\\python.exe\n"
     ]
    }
   ],
   "source": [
    "!where python"
   ]
  },
  {
   "cell_type": "code",
   "execution_count": 8,
   "metadata": {},
   "outputs": [],
   "source": [
    "from dotenv import load_dotenv\n",
    "from openai import OpenAI\n",
    "import os\n",
    "import tiktoken\n",
    "\n",
    "# Load .env into Environment Varaibles\n",
    "load_dotenv('.env')\n",
    "\n",
    "# Define default model\n",
    "model_default = \"gpt-4o\"\n",
    "\n",
    "# Instantiate the OpenAI client\n",
    "client = OpenAI()"
   ]
  },
  {
   "cell_type": "code",
   "execution_count": 9,
   "metadata": {},
   "outputs": [
    {
     "data": {
      "text/plain": [
       "'Several fun activities are also great for your health. Here are a few:\\n\\n1. **Hiking**: Excellent for cardiovascular health, muscle strength, and mental well-being.\\n2. **Swimming**: Great for a full-body workout and low-impact exercise.\\n3. **Cycling**: Good for cardiovascular fitness, muscle strength, and joint mobility.\\n4. **Yoga**: Enhances flexibility, strength, and mental clarity.\\n5. **Dancing**: Provides a fun way to improve cardiovascular health, coordination, and muscle tone.\\n6. **Running or Jogging**: Boosts cardiovascular health, endurance, and mental health.\\n7. **Tennis or Badminton**: Improves hand-eye coordination, cardiovascular health, and agility.\\n8. **Rock Climbing**: Builds strength, endurance, and problem-solving skills.\\n9. **Kayaking or Canoeing**: Strengthens upper body muscles and improves cardiovascular health.\\n10. **Gardening**: Offers moderate physical activity and can reduce stress.\\n\\nThese activities not only provide physical benefits but also contribute to mental and emotional well-being.'"
      ]
     },
     "execution_count": 9,
     "metadata": {},
     "output_type": "execute_result"
    }
   ],
   "source": [
    "def get_completion_by_messages(messages, model=model_default, temperature=0, top_p=1.0, max_tokens=1024, n=1):\n",
    "    response = client.chat.completions.create(\n",
    "        model=model,\n",
    "        messages=messages,\n",
    "        temperature=temperature,\n",
    "        top_p=top_p,\n",
    "        max_tokens=max_tokens,\n",
    "        n=1\n",
    "    )\n",
    "    return response.choices[0].message.content\n",
    "\n",
    "messages=[\n",
    "{\"role\": \"system\", \"content\": \"You are a helpful assistant.\"},\n",
    "{\"role\": \"user\", \"content\": \"List some Fun Activities\"},\n",
    "{\"role\": \"assistant\", \"content\": \"Spa, Hiking, Surfing, and Gaming\"},\n",
    "{\"role\": \"user\", \"content\": \"Which are healthy?\"}\n",
    "]\n",
    "\n",
    "get_completion_by_messages(messages)"
   ]
  },
  {
   "cell_type": "code",
   "execution_count": 10,
   "metadata": {},
   "outputs": [],
   "source": [
    "# This function is for calculating the tokens given the \"message\"\n",
    "# ⚠️ This is simplified implementation that is good enough for a rough estimation\n",
    "\n",
    "import tiktoken\n",
    "\n",
    "def count_tokens(text):\n",
    "    encoding = tiktoken.encoding_for_model(model_default)\n",
    "    return len(encoding.encode(text))\n",
    "\n",
    "def count_tokens_from_message_rough(messages):\n",
    "    encoding = tiktoken.encoding_for_model(model_default)\n",
    "    value = ' '.join([x.get('content') for x in messages])\n",
    "    return len(encoding.encode(value))"
   ]
  },
  {
   "cell_type": "code",
   "execution_count": 12,
   "metadata": {},
   "outputs": [
    {
     "data": {
      "text/plain": [
       "5"
      ]
     },
     "execution_count": 12,
     "metadata": {},
     "output_type": "execute_result"
    }
   ],
   "source": [
    "from langchain_community.document_loaders import Docx2txtLoader\n",
    "\n",
    "loader = Docx2txtLoader(\"./data/DRAFT 1_Maternity Leave Information.docx\")\n",
    "docs = loader.load()\n",
    "\n",
    "from langchain.text_splitter import RecursiveCharacterTextSplitter\n",
    "text_splitter = RecursiveCharacterTextSplitter(\n",
    "    separators=[\"\\n\\n\", \"\\n\", \" \", \"\"],\n",
    "    chunk_size=500,\n",
    "    chunk_overlap=50,\n",
    "    length_function=count_tokens\n",
    ")\n",
    "\n",
    "splitted_documents = text_splitter.split_documents(docs)\n",
    "len(splitted_documents)"
   ]
  },
  {
   "cell_type": "code",
   "execution_count": 20,
   "metadata": {},
   "outputs": [],
   "source": [
    "from langchain_community.document_loaders import TextLoader\n",
    "from langchain_text_splitters import CharacterTextSplitter\n",
    "from langchain_community.vectorstores import Chroma\n",
    "from langchain_openai import OpenAIEmbeddings\n",
    "\n",
    "\n",
    "embeddings_model = OpenAIEmbeddings(model='text-embedding-3-small')\n",
    "\n",
    "db = Chroma.from_documents(splitted_documents, embeddings_model, persist_directory=\"./chroma_db\")"
   ]
  },
  {
   "cell_type": "code",
   "execution_count": 21,
   "metadata": {},
   "outputs": [
    {
     "name": "stdout",
     "output_type": "stream",
     "text": [
      "5\n"
     ]
    }
   ],
   "source": [
    "print(db._collection.count())"
   ]
  },
  {
   "cell_type": "code",
   "execution_count": 24,
   "metadata": {},
   "outputs": [
    {
     "data": {
      "text/plain": [
       "{'query': 'Am I eligible for maternity leave if I am not a citizen?',\n",
       " 'result': 'Yes, you are eligible for maternity leave even if you are not a citizen, as long as you meet the other eligibility criteria specified for maternity leave as an officer.',\n",
       " 'source_documents': [Document(page_content='Officers whose NPL end after the first 8 weeks from the date of the birth of the child would be granted the remainder of the 4 or 8 weeks of EML, to be taken within 12 months from the date of the birth of the child. Any remaining EML not taken within this period will be forfeited.\\n\\n\\n\\n\\n\\nProcedure\\n\\nOfficers are to inform their HR Business Partner of their EDD and the planned start date of your ML (can be up to 4 weeks before EDD or upon delivery, please see diagram below).\\n\\nSubmit to HR Business Partner their Doctor\\'s Certification indicating the officer\\'s EDD\\n\\nInform your HR Business Partner of your ML plan (length of period to be taken consecutively after confinement)\\n\\nThe first 8 weeks of the ML (known in ESS as Maternity Leave) has to be taken consecutively.\\n\\n\\n\\nThe remaining 8 weeks of the ML (known in ESS as Extended Maternity Leave), or 4 weeks of the no pay ML (known in ESS as No Pay Maternity Leave) can be taken flexibly over a \\u200b12-month period from the child\\'s birth. An officer who wishes to take the remaining ML flexibly (i.e. returning to work) should discuss the arrangements with her supervisor early so that the necessary arrangements can be made. The period of Extended Maternity Leave or No Pay Maternity Leave will count towards the officer\\'s Years-In Service.\\u200b\\n\\n\\n\\nWhere appropriate, please be reminded to set up your Delegation via the \"My Delegations\" task in Workday for covering arrangement\\u200b during your maternity leave.\\n\\n\\n\\n\\n\\n\\n\\n\\n\\n\\n\\n\\n\\n\\nFrequently Asked Questions:\\n\\nQ1: I am a single/unmarried mother of a Singapore Citizen child. Apart from this, I meet all other eligible criteria for Maternity Leave. Am I eligible for the extended Government-Paid Maternity Leave?\\n\\nAnswer: If your Singapore Citizen child is born on/after 1 January 2017, you\\'ll be eligible for the full 16 weeks Maternity Leave.  If your child is born before 1 January 2017, you are entitled to 12 weeks of Maternity Leave. However, should you marry the child\\'s father within 12 months from the birth of the child, you will be eligible for the remaining extended maternity leave (4 weeks) in that year.', metadata={'source': './data/DRAFT 1_Maternity Leave Information.docx'}),\n",
       "  Document(page_content=\"Q2: If my baby is born on 1 March and I take the first 8 weeks of Maternity Leave from March to April, can I then take 16 weeks of 50% time work from September to December as Extended Maternity Leave? If yes, how many working days is it equivalent to? \\n\\nAnswer: Subject to management's approval, the last eight weeks (9th to 16th week) of Maternity Leave can be taken flexibly in the manner described within 12 months of the delivery. You should discuss with your supervisor and come to an agreement on the arrangement that will best meet the needs of both parties. 8 weeks of maternity leave is equivalent to 40 working days.\\n\\n\\n\\nQ3: Can an officer who has given birth to her child on a Saturday or Sunday commence her Maternity Leave on the next working day, i.e. Monday? Can an officer who gives birth after office hour on a weekday begin her Maternity Leave the following day? \\n\\nAnswer: Maternity Leave begins either up to 4 weeks before your EDD or on the date of delivery. It does not matter whether delivery takes place during office hours or on a non-working day.\\n\\n\\n\\nQ4: If my child is not a Singapore Citizen at birth (on/after 1 January 2017), and I am I single/unmarried mother, will I still be eligible to the 16 weeks of Maternity Leave? \\n\\nAnswer: If your child was not a Singapore Citizen at birth, Singapore Citizenship must be attained before he reaches 12 months of age for you to be eligible for the full 16 weeks Maternity Leave.\\n\\n\\n\\nQ5: I am an unwed mother. The estimated delivery date of my child was 1 January 2017 but I delivered a week before that. Will I still be eligible for the 16 weeks of Maternity Leave?\\n\\nAnswer: You would be eligible for the 16 weeks of Government-Paid Maternity Leave based on the estimated delivery date (supported by doctor's certification), if your child is a Singapore Citizen.\\n\\n\\n\\nQ6: How is the number of flexible Paternity Leave, Maternity Leave, Adoption Leave days calculated for an officer on part-time employment?\", metadata={'source': './data/DRAFT 1_Maternity Leave Information.docx'})]}"
      ]
     },
     "execution_count": 24,
     "metadata": {},
     "output_type": "execute_result"
    }
   ],
   "source": [
    "from langchain.chains import RetrievalQA\n",
    "from langchain_openai import ChatOpenAI\n",
    "\n",
    "qa_chain = RetrievalQA.from_chain_type(\n",
    "    ChatOpenAI(model='gpt-3.5-turbo'),\n",
    "    retriever=db.as_retriever(search_kwargs={\"k\": 2}),\n",
    "    return_source_documents=True\n",
    ")\n",
    "\n",
    "response = qa_chain.invoke(\"Am I eligible for maternity leave if I am not a citizen?\")\n",
    "response"
   ]
  },
  {
   "cell_type": "code",
   "execution_count": 25,
   "metadata": {},
   "outputs": [
    {
     "data": {
      "text/plain": [
       "2"
      ]
     },
     "execution_count": 25,
     "metadata": {},
     "output_type": "execute_result"
    }
   ],
   "source": [
    "len(response['source_documents'])"
   ]
  },
  {
   "cell_type": "code",
   "execution_count": 26,
   "metadata": {},
   "outputs": [
    {
     "data": {
      "text/plain": [
       "[Document(page_content='Officers whose NPL end after the first 8 weeks from the date of the birth of the child would be granted the remainder of the 4 or 8 weeks of EML, to be taken within 12 months from the date of the birth of the child. Any remaining EML not taken within this period will be forfeited.\\n\\n\\n\\n\\n\\nProcedure\\n\\nOfficers are to inform their HR Business Partner of their EDD and the planned start date of your ML (can be up to 4 weeks before EDD or upon delivery, please see diagram below).\\n\\nSubmit to HR Business Partner their Doctor\\'s Certification indicating the officer\\'s EDD\\n\\nInform your HR Business Partner of your ML plan (length of period to be taken consecutively after confinement)\\n\\nThe first 8 weeks of the ML (known in ESS as Maternity Leave) has to be taken consecutively.\\n\\n\\n\\nThe remaining 8 weeks of the ML (known in ESS as Extended Maternity Leave), or 4 weeks of the no pay ML (known in ESS as No Pay Maternity Leave) can be taken flexibly over a \\u200b12-month period from the child\\'s birth. An officer who wishes to take the remaining ML flexibly (i.e. returning to work) should discuss the arrangements with her supervisor early so that the necessary arrangements can be made. The period of Extended Maternity Leave or No Pay Maternity Leave will count towards the officer\\'s Years-In Service.\\u200b\\n\\n\\n\\nWhere appropriate, please be reminded to set up your Delegation via the \"My Delegations\" task in Workday for covering arrangement\\u200b during your maternity leave.\\n\\n\\n\\n\\n\\n\\n\\n\\n\\n\\n\\n\\n\\n\\nFrequently Asked Questions:\\n\\nQ1: I am a single/unmarried mother of a Singapore Citizen child. Apart from this, I meet all other eligible criteria for Maternity Leave. Am I eligible for the extended Government-Paid Maternity Leave?\\n\\nAnswer: If your Singapore Citizen child is born on/after 1 January 2017, you\\'ll be eligible for the full 16 weeks Maternity Leave.  If your child is born before 1 January 2017, you are entitled to 12 weeks of Maternity Leave. However, should you marry the child\\'s father within 12 months from the birth of the child, you will be eligible for the remaining extended maternity leave (4 weeks) in that year.', metadata={'source': './data/DRAFT 1_Maternity Leave Information.docx'}),\n",
       " Document(page_content=\"Q2: If my baby is born on 1 March and I take the first 8 weeks of Maternity Leave from March to April, can I then take 16 weeks of 50% time work from September to December as Extended Maternity Leave? If yes, how many working days is it equivalent to? \\n\\nAnswer: Subject to management's approval, the last eight weeks (9th to 16th week) of Maternity Leave can be taken flexibly in the manner described within 12 months of the delivery. You should discuss with your supervisor and come to an agreement on the arrangement that will best meet the needs of both parties. 8 weeks of maternity leave is equivalent to 40 working days.\\n\\n\\n\\nQ3: Can an officer who has given birth to her child on a Saturday or Sunday commence her Maternity Leave on the next working day, i.e. Monday? Can an officer who gives birth after office hour on a weekday begin her Maternity Leave the following day? \\n\\nAnswer: Maternity Leave begins either up to 4 weeks before your EDD or on the date of delivery. It does not matter whether delivery takes place during office hours or on a non-working day.\\n\\n\\n\\nQ4: If my child is not a Singapore Citizen at birth (on/after 1 January 2017), and I am I single/unmarried mother, will I still be eligible to the 16 weeks of Maternity Leave? \\n\\nAnswer: If your child was not a Singapore Citizen at birth, Singapore Citizenship must be attained before he reaches 12 months of age for you to be eligible for the full 16 weeks Maternity Leave.\\n\\n\\n\\nQ5: I am an unwed mother. The estimated delivery date of my child was 1 January 2017 but I delivered a week before that. Will I still be eligible for the 16 weeks of Maternity Leave?\\n\\nAnswer: You would be eligible for the 16 weeks of Government-Paid Maternity Leave based on the estimated delivery date (supported by doctor's certification), if your child is a Singapore Citizen.\\n\\n\\n\\nQ6: How is the number of flexible Paternity Leave, Maternity Leave, Adoption Leave days calculated for an officer on part-time employment?\", metadata={'source': './data/DRAFT 1_Maternity Leave Information.docx'})]"
      ]
     },
     "execution_count": 26,
     "metadata": {},
     "output_type": "execute_result"
    }
   ],
   "source": [
    "response['source_documents']"
   ]
  },
  {
   "cell_type": "code",
   "execution_count": null,
   "metadata": {},
   "outputs": [],
   "source": []
  }
 ],
 "metadata": {
  "kernelspec": {
   "display_name": "venv",
   "language": "python",
   "name": "python3"
  },
  "language_info": {
   "codemirror_mode": {
    "name": "ipython",
    "version": 3
   },
   "file_extension": ".py",
   "mimetype": "text/x-python",
   "name": "python",
   "nbconvert_exporter": "python",
   "pygments_lexer": "ipython3",
   "version": "3.9.5"
  }
 },
 "nbformat": 4,
 "nbformat_minor": 2
}
