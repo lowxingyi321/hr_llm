{
 "cells": [
  {
   "cell_type": "code",
   "execution_count": 1,
   "metadata": {},
   "outputs": [
    {
     "name": "stdout",
     "output_type": "stream",
     "text": [
      "c:\\Users\\xingy\\OneDrive\\Documents\\Personal\\Projects\\AI Bootcamp\\hr_bot\\venv\\Scripts\\python.exe\n",
      "C:\\Users\\xingy\\AppData\\Local\\Programs\\Python\\Python39\\python.exe\n"
     ]
    }
   ],
   "source": [
    "!where python"
   ]
  },
  {
   "cell_type": "code",
   "execution_count": 1,
   "metadata": {},
   "outputs": [
    {
     "name": "stdout",
     "output_type": "stream",
     "text": [
      "Requirement already satisfied: openai in c:\\users\\xingy\\onedrive\\documents\\personal\\projects\\ai bootcamp\\hr_bot\\venv\\lib\\site-packages (1.30.3)\n",
      "Requirement already satisfied: tqdm>4 in c:\\users\\xingy\\onedrive\\documents\\personal\\projects\\ai bootcamp\\hr_bot\\venv\\lib\\site-packages (from openai) (4.66.4)\n",
      "Requirement already satisfied: anyio<5,>=3.5.0 in c:\\users\\xingy\\onedrive\\documents\\personal\\projects\\ai bootcamp\\hr_bot\\venv\\lib\\site-packages (from openai) (4.3.0)\n",
      "Requirement already satisfied: distro<2,>=1.7.0 in c:\\users\\xingy\\onedrive\\documents\\personal\\projects\\ai bootcamp\\hr_bot\\venv\\lib\\site-packages (from openai) (1.9.0)\n",
      "Requirement already satisfied: httpx<1,>=0.23.0 in c:\\users\\xingy\\onedrive\\documents\\personal\\projects\\ai bootcamp\\hr_bot\\venv\\lib\\site-packages (from openai) (0.27.0)\n",
      "Requirement already satisfied: sniffio in c:\\users\\xingy\\onedrive\\documents\\personal\\projects\\ai bootcamp\\hr_bot\\venv\\lib\\site-packages (from openai) (1.3.1)\n",
      "Requirement already satisfied: typing-extensions<5,>=4.7 in c:\\users\\xingy\\onedrive\\documents\\personal\\projects\\ai bootcamp\\hr_bot\\venv\\lib\\site-packages (from openai) (4.12.0)\n",
      "Requirement already satisfied: pydantic<3,>=1.9.0 in c:\\users\\xingy\\onedrive\\documents\\personal\\projects\\ai bootcamp\\hr_bot\\venv\\lib\\site-packages (from openai) (2.7.1)\n",
      "Requirement already satisfied: exceptiongroup>=1.0.2 in c:\\users\\xingy\\onedrive\\documents\\personal\\projects\\ai bootcamp\\hr_bot\\venv\\lib\\site-packages (from anyio<5,>=3.5.0->openai) (1.2.1)\n",
      "Requirement already satisfied: idna>=2.8 in c:\\users\\xingy\\onedrive\\documents\\personal\\projects\\ai bootcamp\\hr_bot\\venv\\lib\\site-packages (from anyio<5,>=3.5.0->openai) (3.7)\n",
      "Requirement already satisfied: certifi in c:\\users\\xingy\\onedrive\\documents\\personal\\projects\\ai bootcamp\\hr_bot\\venv\\lib\\site-packages (from httpx<1,>=0.23.0->openai) (2024.2.2)\n",
      "Requirement already satisfied: httpcore==1.* in c:\\users\\xingy\\onedrive\\documents\\personal\\projects\\ai bootcamp\\hr_bot\\venv\\lib\\site-packages (from httpx<1,>=0.23.0->openai) (1.0.5)\n",
      "Requirement already satisfied: h11<0.15,>=0.13 in c:\\users\\xingy\\onedrive\\documents\\personal\\projects\\ai bootcamp\\hr_bot\\venv\\lib\\site-packages (from httpcore==1.*->httpx<1,>=0.23.0->openai) (0.14.0)\n",
      "Requirement already satisfied: annotated-types>=0.4.0 in c:\\users\\xingy\\onedrive\\documents\\personal\\projects\\ai bootcamp\\hr_bot\\venv\\lib\\site-packages (from pydantic<3,>=1.9.0->openai) (0.7.0)\n",
      "Requirement already satisfied: pydantic-core==2.18.2 in c:\\users\\xingy\\onedrive\\documents\\personal\\projects\\ai bootcamp\\hr_bot\\venv\\lib\\site-packages (from pydantic<3,>=1.9.0->openai) (2.18.2)\n",
      "Requirement already satisfied: colorama in c:\\users\\xingy\\onedrive\\documents\\personal\\projects\\ai bootcamp\\hr_bot\\venv\\lib\\site-packages (from tqdm>4->openai) (0.4.6)\n"
     ]
    },
    {
     "name": "stderr",
     "output_type": "stream",
     "text": [
      "WARNING: You are using pip version 21.1.1; however, version 24.0 is available.\n",
      "You should consider upgrading via the 'c:\\users\\xingy\\onedrive\\documents\\personal\\projects\\ai bootcamp\\hr_bot\\venv\\scripts\\python.exe -m pip install --upgrade pip' command.\n"
     ]
    },
    {
     "name": "stdout",
     "output_type": "stream",
     "text": [
      "Collecting langchain\n",
      "  Downloading langchain-0.2.2-py3-none-any.whl (973 kB)\n",
      "Requirement already satisfied: pydantic<3,>=1 in c:\\users\\xingy\\onedrive\\documents\\personal\\projects\\ai bootcamp\\hr_bot\\venv\\lib\\site-packages (from langchain) (2.7.1)\n",
      "Collecting numpy<2,>=1\n",
      "  Using cached numpy-1.26.4-cp39-cp39-win_amd64.whl (15.8 MB)\n",
      "Collecting async-timeout<5.0.0,>=4.0.0\n",
      "  Using cached async_timeout-4.0.3-py3-none-any.whl (5.7 kB)\n",
      "Collecting langchain-core<0.3.0,>=0.2.0\n",
      "  Downloading langchain_core-0.2.4-py3-none-any.whl (310 kB)\n",
      "Collecting langchain-text-splitters<0.3.0,>=0.2.0\n",
      "  Downloading langchain_text_splitters-0.2.1-py3-none-any.whl (23 kB)\n",
      "Collecting langsmith<0.2.0,>=0.1.17\n",
      "  Downloading langsmith-0.1.71-py3-none-any.whl (124 kB)\n",
      "Collecting tenacity<9.0.0,>=8.1.0\n",
      "  Using cached tenacity-8.3.0-py3-none-any.whl (25 kB)\n",
      "Collecting SQLAlchemy<3,>=1.4\n",
      "  Using cached SQLAlchemy-2.0.30-cp39-cp39-win_amd64.whl (2.1 MB)\n",
      "Requirement already satisfied: requests<3,>=2 in c:\\users\\xingy\\onedrive\\documents\\personal\\projects\\ai bootcamp\\hr_bot\\venv\\lib\\site-packages (from langchain) (2.32.2)\n",
      "Requirement already satisfied: PyYAML>=5.3 in c:\\users\\xingy\\onedrive\\documents\\personal\\projects\\ai bootcamp\\hr_bot\\venv\\lib\\site-packages (from langchain) (6.0.1)\n",
      "Collecting aiohttp<4.0.0,>=3.8.3\n",
      "  Using cached aiohttp-3.9.5-cp39-cp39-win_amd64.whl (371 kB)\n",
      "Collecting yarl<2.0,>=1.0\n",
      "  Using cached yarl-1.9.4-cp39-cp39-win_amd64.whl (76 kB)\n",
      "Collecting aiosignal>=1.1.2\n",
      "  Using cached aiosignal-1.3.1-py3-none-any.whl (7.6 kB)\n",
      "Collecting multidict<7.0,>=4.5\n",
      "  Using cached multidict-6.0.5-cp39-cp39-win_amd64.whl (28 kB)\n",
      "Collecting frozenlist>=1.1.1\n",
      "  Using cached frozenlist-1.4.1-cp39-cp39-win_amd64.whl (50 kB)\n",
      "Requirement already satisfied: attrs>=17.3.0 in c:\\users\\xingy\\onedrive\\documents\\personal\\projects\\ai bootcamp\\hr_bot\\venv\\lib\\site-packages (from aiohttp<4.0.0,>=3.8.3->langchain) (23.2.0)\n",
      "Collecting packaging<24.0,>=23.2\n",
      "  Using cached packaging-23.2-py3-none-any.whl (53 kB)\n",
      "Collecting jsonpatch<2.0,>=1.33\n",
      "  Using cached jsonpatch-1.33-py2.py3-none-any.whl (12 kB)\n",
      "Requirement already satisfied: jsonpointer>=1.9 in c:\\users\\xingy\\onedrive\\documents\\personal\\projects\\ai bootcamp\\hr_bot\\venv\\lib\\site-packages (from jsonpatch<2.0,>=1.33->langchain-core<0.3.0,>=0.2.0->langchain) (2.4)\n",
      "Collecting orjson<4.0.0,>=3.9.14\n",
      "  Using cached orjson-3.10.3-cp39-none-win_amd64.whl (138 kB)\n",
      "Requirement already satisfied: typing-extensions>=4.6.1 in c:\\users\\xingy\\onedrive\\documents\\personal\\projects\\ai bootcamp\\hr_bot\\venv\\lib\\site-packages (from pydantic<3,>=1->langchain) (4.12.0)\n",
      "Requirement already satisfied: annotated-types>=0.4.0 in c:\\users\\xingy\\onedrive\\documents\\personal\\projects\\ai bootcamp\\hr_bot\\venv\\lib\\site-packages (from pydantic<3,>=1->langchain) (0.7.0)\n",
      "Requirement already satisfied: pydantic-core==2.18.2 in c:\\users\\xingy\\onedrive\\documents\\personal\\projects\\ai bootcamp\\hr_bot\\venv\\lib\\site-packages (from pydantic<3,>=1->langchain) (2.18.2)\n",
      "Requirement already satisfied: certifi>=2017.4.17 in c:\\users\\xingy\\onedrive\\documents\\personal\\projects\\ai bootcamp\\hr_bot\\venv\\lib\\site-packages (from requests<3,>=2->langchain) (2024.2.2)\n",
      "Requirement already satisfied: urllib3<3,>=1.21.1 in c:\\users\\xingy\\onedrive\\documents\\personal\\projects\\ai bootcamp\\hr_bot\\venv\\lib\\site-packages (from requests<3,>=2->langchain) (2.2.1)\n",
      "Requirement already satisfied: idna<4,>=2.5 in c:\\users\\xingy\\onedrive\\documents\\personal\\projects\\ai bootcamp\\hr_bot\\venv\\lib\\site-packages (from requests<3,>=2->langchain) (3.7)\n",
      "Requirement already satisfied: charset-normalizer<4,>=2 in c:\\users\\xingy\\onedrive\\documents\\personal\\projects\\ai bootcamp\\hr_bot\\venv\\lib\\site-packages (from requests<3,>=2->langchain) (3.3.2)\n",
      "Collecting greenlet!=0.4.17\n",
      "  Using cached greenlet-3.0.3-cp39-cp39-win_amd64.whl (290 kB)\n",
      "Installing collected packages: orjson, tenacity, packaging, multidict, langsmith, jsonpatch, frozenlist, yarl, langchain-core, greenlet, async-timeout, aiosignal, SQLAlchemy, numpy, langchain-text-splitters, aiohttp, langchain\n",
      "  Attempting uninstall: packaging\n",
      "    Found existing installation: packaging 24.0\n",
      "    Uninstalling packaging-24.0:\n",
      "      Successfully uninstalled packaging-24.0\n",
      "Successfully installed SQLAlchemy-2.0.30 aiohttp-3.9.5 aiosignal-1.3.1 async-timeout-4.0.3 frozenlist-1.4.1 greenlet-3.0.3 jsonpatch-1.33 langchain-0.2.2 langchain-core-0.2.4 langchain-text-splitters-0.2.1 langsmith-0.1.71 multidict-6.0.5 numpy-1.26.4 orjson-3.10.3 packaging-23.2 tenacity-8.3.0 yarl-1.9.4\n"
     ]
    },
    {
     "name": "stderr",
     "output_type": "stream",
     "text": [
      "WARNING: You are using pip version 21.1.1; however, version 24.0 is available.\n",
      "You should consider upgrading via the 'c:\\users\\xingy\\onedrive\\documents\\personal\\projects\\ai bootcamp\\hr_bot\\venv\\scripts\\python.exe -m pip install --upgrade pip' command.\n"
     ]
    },
    {
     "name": "stdout",
     "output_type": "stream",
     "text": [
      "Collecting langchain-openai\n",
      "  Downloading langchain_openai-0.1.8-py3-none-any.whl (38 kB)\n",
      "Requirement already satisfied: langchain-core<0.3,>=0.2.2 in c:\\users\\xingy\\onedrive\\documents\\personal\\projects\\ai bootcamp\\hr_bot\\venv\\lib\\site-packages (from langchain-openai) (0.2.4)\n",
      "Requirement already satisfied: tiktoken<1,>=0.7 in c:\\users\\xingy\\onedrive\\documents\\personal\\projects\\ai bootcamp\\hr_bot\\venv\\lib\\site-packages (from langchain-openai) (0.7.0)\n",
      "Requirement already satisfied: openai<2.0.0,>=1.26.0 in c:\\users\\xingy\\onedrive\\documents\\personal\\projects\\ai bootcamp\\hr_bot\\venv\\lib\\site-packages (from langchain-openai) (1.30.3)\n",
      "Requirement already satisfied: jsonpatch<2.0,>=1.33 in c:\\users\\xingy\\onedrive\\documents\\personal\\projects\\ai bootcamp\\hr_bot\\venv\\lib\\site-packages (from langchain-core<0.3,>=0.2.2->langchain-openai) (1.33)\n",
      "Requirement already satisfied: PyYAML>=5.3 in c:\\users\\xingy\\onedrive\\documents\\personal\\projects\\ai bootcamp\\hr_bot\\venv\\lib\\site-packages (from langchain-core<0.3,>=0.2.2->langchain-openai) (6.0.1)\n",
      "Requirement already satisfied: tenacity<9.0.0,>=8.1.0 in c:\\users\\xingy\\onedrive\\documents\\personal\\projects\\ai bootcamp\\hr_bot\\venv\\lib\\site-packages (from langchain-core<0.3,>=0.2.2->langchain-openai) (8.3.0)\n",
      "Requirement already satisfied: pydantic<3,>=1 in c:\\users\\xingy\\onedrive\\documents\\personal\\projects\\ai bootcamp\\hr_bot\\venv\\lib\\site-packages (from langchain-core<0.3,>=0.2.2->langchain-openai) (2.7.1)\n",
      "Requirement already satisfied: packaging<24.0,>=23.2 in c:\\users\\xingy\\onedrive\\documents\\personal\\projects\\ai bootcamp\\hr_bot\\venv\\lib\\site-packages (from langchain-core<0.3,>=0.2.2->langchain-openai) (23.2)\n",
      "Requirement already satisfied: langsmith<0.2.0,>=0.1.66 in c:\\users\\xingy\\onedrive\\documents\\personal\\projects\\ai bootcamp\\hr_bot\\venv\\lib\\site-packages (from langchain-core<0.3,>=0.2.2->langchain-openai) (0.1.71)\n",
      "Requirement already satisfied: jsonpointer>=1.9 in c:\\users\\xingy\\onedrive\\documents\\personal\\projects\\ai bootcamp\\hr_bot\\venv\\lib\\site-packages (from jsonpatch<2.0,>=1.33->langchain-core<0.3,>=0.2.2->langchain-openai) (2.4)\n",
      "Requirement already satisfied: requests<3,>=2 in c:\\users\\xingy\\onedrive\\documents\\personal\\projects\\ai bootcamp\\hr_bot\\venv\\lib\\site-packages (from langsmith<0.2.0,>=0.1.66->langchain-core<0.3,>=0.2.2->langchain-openai) (2.32.2)\n",
      "Requirement already satisfied: orjson<4.0.0,>=3.9.14 in c:\\users\\xingy\\onedrive\\documents\\personal\\projects\\ai bootcamp\\hr_bot\\venv\\lib\\site-packages (from langsmith<0.2.0,>=0.1.66->langchain-core<0.3,>=0.2.2->langchain-openai) (3.10.3)\n",
      "Requirement already satisfied: typing-extensions<5,>=4.7 in c:\\users\\xingy\\onedrive\\documents\\personal\\projects\\ai bootcamp\\hr_bot\\venv\\lib\\site-packages (from openai<2.0.0,>=1.26.0->langchain-openai) (4.12.0)\n",
      "Requirement already satisfied: anyio<5,>=3.5.0 in c:\\users\\xingy\\onedrive\\documents\\personal\\projects\\ai bootcamp\\hr_bot\\venv\\lib\\site-packages (from openai<2.0.0,>=1.26.0->langchain-openai) (4.3.0)\n",
      "Requirement already satisfied: tqdm>4 in c:\\users\\xingy\\onedrive\\documents\\personal\\projects\\ai bootcamp\\hr_bot\\venv\\lib\\site-packages (from openai<2.0.0,>=1.26.0->langchain-openai) (4.66.4)\n",
      "Requirement already satisfied: httpx<1,>=0.23.0 in c:\\users\\xingy\\onedrive\\documents\\personal\\projects\\ai bootcamp\\hr_bot\\venv\\lib\\site-packages (from openai<2.0.0,>=1.26.0->langchain-openai) (0.27.0)\n",
      "Requirement already satisfied: distro<2,>=1.7.0 in c:\\users\\xingy\\onedrive\\documents\\personal\\projects\\ai bootcamp\\hr_bot\\venv\\lib\\site-packages (from openai<2.0.0,>=1.26.0->langchain-openai) (1.9.0)\n",
      "Requirement already satisfied: sniffio in c:\\users\\xingy\\onedrive\\documents\\personal\\projects\\ai bootcamp\\hr_bot\\venv\\lib\\site-packages (from openai<2.0.0,>=1.26.0->langchain-openai) (1.3.1)\n",
      "Requirement already satisfied: idna>=2.8 in c:\\users\\xingy\\onedrive\\documents\\personal\\projects\\ai bootcamp\\hr_bot\\venv\\lib\\site-packages (from anyio<5,>=3.5.0->openai<2.0.0,>=1.26.0->langchain-openai) (3.7)\n",
      "Requirement already satisfied: exceptiongroup>=1.0.2 in c:\\users\\xingy\\onedrive\\documents\\personal\\projects\\ai bootcamp\\hr_bot\\venv\\lib\\site-packages (from anyio<5,>=3.5.0->openai<2.0.0,>=1.26.0->langchain-openai) (1.2.1)\n",
      "Requirement already satisfied: httpcore==1.* in c:\\users\\xingy\\onedrive\\documents\\personal\\projects\\ai bootcamp\\hr_bot\\venv\\lib\\site-packages (from httpx<1,>=0.23.0->openai<2.0.0,>=1.26.0->langchain-openai) (1.0.5)\n",
      "Requirement already satisfied: certifi in c:\\users\\xingy\\onedrive\\documents\\personal\\projects\\ai bootcamp\\hr_bot\\venv\\lib\\site-packages (from httpx<1,>=0.23.0->openai<2.0.0,>=1.26.0->langchain-openai) (2024.2.2)\n",
      "Requirement already satisfied: h11<0.15,>=0.13 in c:\\users\\xingy\\onedrive\\documents\\personal\\projects\\ai bootcamp\\hr_bot\\venv\\lib\\site-packages (from httpcore==1.*->httpx<1,>=0.23.0->openai<2.0.0,>=1.26.0->langchain-openai) (0.14.0)\n",
      "Requirement already satisfied: pydantic-core==2.18.2 in c:\\users\\xingy\\onedrive\\documents\\personal\\projects\\ai bootcamp\\hr_bot\\venv\\lib\\site-packages (from pydantic<3,>=1->langchain-core<0.3,>=0.2.2->langchain-openai) (2.18.2)\n",
      "Requirement already satisfied: annotated-types>=0.4.0 in c:\\users\\xingy\\onedrive\\documents\\personal\\projects\\ai bootcamp\\hr_bot\\venv\\lib\\site-packages (from pydantic<3,>=1->langchain-core<0.3,>=0.2.2->langchain-openai) (0.7.0)\n",
      "Requirement already satisfied: charset-normalizer<4,>=2 in c:\\users\\xingy\\onedrive\\documents\\personal\\projects\\ai bootcamp\\hr_bot\\venv\\lib\\site-packages (from requests<3,>=2->langsmith<0.2.0,>=0.1.66->langchain-core<0.3,>=0.2.2->langchain-openai) (3.3.2)\n",
      "Requirement already satisfied: urllib3<3,>=1.21.1 in c:\\users\\xingy\\onedrive\\documents\\personal\\projects\\ai bootcamp\\hr_bot\\venv\\lib\\site-packages (from requests<3,>=2->langsmith<0.2.0,>=0.1.66->langchain-core<0.3,>=0.2.2->langchain-openai) (2.2.1)\n",
      "Requirement already satisfied: regex>=2022.1.18 in c:\\users\\xingy\\onedrive\\documents\\personal\\projects\\ai bootcamp\\hr_bot\\venv\\lib\\site-packages (from tiktoken<1,>=0.7->langchain-openai) (2024.5.15)\n",
      "Requirement already satisfied: colorama in c:\\users\\xingy\\onedrive\\documents\\personal\\projects\\ai bootcamp\\hr_bot\\venv\\lib\\site-packages (from tqdm>4->openai<2.0.0,>=1.26.0->langchain-openai) (0.4.6)\n",
      "Installing collected packages: langchain-openai\n",
      "Successfully installed langchain-openai-0.1.8\n"
     ]
    },
    {
     "name": "stderr",
     "output_type": "stream",
     "text": [
      "WARNING: You are using pip version 21.1.1; however, version 24.0 is available.\n",
      "You should consider upgrading via the 'c:\\users\\xingy\\onedrive\\documents\\personal\\projects\\ai bootcamp\\hr_bot\\venv\\scripts\\python.exe -m pip install --upgrade pip' command.\n"
     ]
    },
    {
     "name": "stdout",
     "output_type": "stream",
     "text": [
      "Collecting langchain-experimental\n",
      "  Downloading langchain_experimental-0.0.60-py3-none-any.whl (199 kB)\n",
      "Requirement already satisfied: langchain-core<0.3,>=0.2 in c:\\users\\xingy\\onedrive\\documents\\personal\\projects\\ai bootcamp\\hr_bot\\venv\\lib\\site-packages (from langchain-experimental) (0.2.4)\n",
      "Collecting langchain-community<0.3,>=0.2\n",
      "  Downloading langchain_community-0.2.2-py3-none-any.whl (2.2 MB)\n",
      "Collecting dataclasses-json<0.7,>=0.5.7\n",
      "  Using cached dataclasses_json-0.6.6-py3-none-any.whl (28 kB)\n",
      "Requirement already satisfied: requests<3,>=2 in c:\\users\\xingy\\onedrive\\documents\\personal\\projects\\ai bootcamp\\hr_bot\\venv\\lib\\site-packages (from langchain-community<0.3,>=0.2->langchain-experimental) (2.32.2)\n",
      "Requirement already satisfied: langsmith<0.2.0,>=0.1.0 in c:\\users\\xingy\\onedrive\\documents\\personal\\projects\\ai bootcamp\\hr_bot\\venv\\lib\\site-packages (from langchain-community<0.3,>=0.2->langchain-experimental) (0.1.71)\n",
      "Requirement already satisfied: aiohttp<4.0.0,>=3.8.3 in c:\\users\\xingy\\onedrive\\documents\\personal\\projects\\ai bootcamp\\hr_bot\\venv\\lib\\site-packages (from langchain-community<0.3,>=0.2->langchain-experimental) (3.9.5)\n",
      "Requirement already satisfied: numpy<2,>=1 in c:\\users\\xingy\\onedrive\\documents\\personal\\projects\\ai bootcamp\\hr_bot\\venv\\lib\\site-packages (from langchain-community<0.3,>=0.2->langchain-experimental) (1.26.4)\n",
      "Requirement already satisfied: PyYAML>=5.3 in c:\\users\\xingy\\onedrive\\documents\\personal\\projects\\ai bootcamp\\hr_bot\\venv\\lib\\site-packages (from langchain-community<0.3,>=0.2->langchain-experimental) (6.0.1)\n",
      "Requirement already satisfied: langchain<0.3.0,>=0.2.0 in c:\\users\\xingy\\onedrive\\documents\\personal\\projects\\ai bootcamp\\hr_bot\\venv\\lib\\site-packages (from langchain-community<0.3,>=0.2->langchain-experimental) (0.2.2)\n",
      "Requirement already satisfied: SQLAlchemy<3,>=1.4 in c:\\users\\xingy\\onedrive\\documents\\personal\\projects\\ai bootcamp\\hr_bot\\venv\\lib\\site-packages (from langchain-community<0.3,>=0.2->langchain-experimental) (2.0.30)\n",
      "Requirement already satisfied: tenacity<9.0.0,>=8.1.0 in c:\\users\\xingy\\onedrive\\documents\\personal\\projects\\ai bootcamp\\hr_bot\\venv\\lib\\site-packages (from langchain-community<0.3,>=0.2->langchain-experimental) (8.3.0)\n",
      "Requirement already satisfied: frozenlist>=1.1.1 in c:\\users\\xingy\\onedrive\\documents\\personal\\projects\\ai bootcamp\\hr_bot\\venv\\lib\\site-packages (from aiohttp<4.0.0,>=3.8.3->langchain-community<0.3,>=0.2->langchain-experimental) (1.4.1)\n",
      "Requirement already satisfied: async-timeout<5.0,>=4.0 in c:\\users\\xingy\\onedrive\\documents\\personal\\projects\\ai bootcamp\\hr_bot\\venv\\lib\\site-packages (from aiohttp<4.0.0,>=3.8.3->langchain-community<0.3,>=0.2->langchain-experimental) (4.0.3)\n",
      "Requirement already satisfied: attrs>=17.3.0 in c:\\users\\xingy\\onedrive\\documents\\personal\\projects\\ai bootcamp\\hr_bot\\venv\\lib\\site-packages (from aiohttp<4.0.0,>=3.8.3->langchain-community<0.3,>=0.2->langchain-experimental) (23.2.0)\n",
      "Requirement already satisfied: yarl<2.0,>=1.0 in c:\\users\\xingy\\onedrive\\documents\\personal\\projects\\ai bootcamp\\hr_bot\\venv\\lib\\site-packages (from aiohttp<4.0.0,>=3.8.3->langchain-community<0.3,>=0.2->langchain-experimental) (1.9.4)\n",
      "Requirement already satisfied: aiosignal>=1.1.2 in c:\\users\\xingy\\onedrive\\documents\\personal\\projects\\ai bootcamp\\hr_bot\\venv\\lib\\site-packages (from aiohttp<4.0.0,>=3.8.3->langchain-community<0.3,>=0.2->langchain-experimental) (1.3.1)\n",
      "Requirement already satisfied: multidict<7.0,>=4.5 in c:\\users\\xingy\\onedrive\\documents\\personal\\projects\\ai bootcamp\\hr_bot\\venv\\lib\\site-packages (from aiohttp<4.0.0,>=3.8.3->langchain-community<0.3,>=0.2->langchain-experimental) (6.0.5)\n",
      "Collecting marshmallow<4.0.0,>=3.18.0\n",
      "  Using cached marshmallow-3.21.2-py3-none-any.whl (49 kB)\n",
      "Collecting typing-inspect<1,>=0.4.0\n",
      "  Using cached typing_inspect-0.9.0-py3-none-any.whl (8.8 kB)\n",
      "Requirement already satisfied: langchain-text-splitters<0.3.0,>=0.2.0 in c:\\users\\xingy\\onedrive\\documents\\personal\\projects\\ai bootcamp\\hr_bot\\venv\\lib\\site-packages (from langchain<0.3.0,>=0.2.0->langchain-community<0.3,>=0.2->langchain-experimental) (0.2.1)\n",
      "Requirement already satisfied: pydantic<3,>=1 in c:\\users\\xingy\\onedrive\\documents\\personal\\projects\\ai bootcamp\\hr_bot\\venv\\lib\\site-packages (from langchain<0.3.0,>=0.2.0->langchain-community<0.3,>=0.2->langchain-experimental) (2.7.1)\n",
      "Requirement already satisfied: jsonpatch<2.0,>=1.33 in c:\\users\\xingy\\onedrive\\documents\\personal\\projects\\ai bootcamp\\hr_bot\\venv\\lib\\site-packages (from langchain-core<0.3,>=0.2->langchain-experimental) (1.33)\n",
      "Requirement already satisfied: packaging<24.0,>=23.2 in c:\\users\\xingy\\onedrive\\documents\\personal\\projects\\ai bootcamp\\hr_bot\\venv\\lib\\site-packages (from langchain-core<0.3,>=0.2->langchain-experimental) (23.2)\n",
      "Requirement already satisfied: jsonpointer>=1.9 in c:\\users\\xingy\\onedrive\\documents\\personal\\projects\\ai bootcamp\\hr_bot\\venv\\lib\\site-packages (from jsonpatch<2.0,>=1.33->langchain-core<0.3,>=0.2->langchain-experimental) (2.4)\n",
      "Requirement already satisfied: orjson<4.0.0,>=3.9.14 in c:\\users\\xingy\\onedrive\\documents\\personal\\projects\\ai bootcamp\\hr_bot\\venv\\lib\\site-packages (from langsmith<0.2.0,>=0.1.0->langchain-community<0.3,>=0.2->langchain-experimental) (3.10.3)\n",
      "Requirement already satisfied: annotated-types>=0.4.0 in c:\\users\\xingy\\onedrive\\documents\\personal\\projects\\ai bootcamp\\hr_bot\\venv\\lib\\site-packages (from pydantic<3,>=1->langchain<0.3.0,>=0.2.0->langchain-community<0.3,>=0.2->langchain-experimental) (0.7.0)\n",
      "Requirement already satisfied: typing-extensions>=4.6.1 in c:\\users\\xingy\\onedrive\\documents\\personal\\projects\\ai bootcamp\\hr_bot\\venv\\lib\\site-packages (from pydantic<3,>=1->langchain<0.3.0,>=0.2.0->langchain-community<0.3,>=0.2->langchain-experimental) (4.12.0)\n",
      "Requirement already satisfied: pydantic-core==2.18.2 in c:\\users\\xingy\\onedrive\\documents\\personal\\projects\\ai bootcamp\\hr_bot\\venv\\lib\\site-packages (from pydantic<3,>=1->langchain<0.3.0,>=0.2.0->langchain-community<0.3,>=0.2->langchain-experimental) (2.18.2)\n",
      "Requirement already satisfied: charset-normalizer<4,>=2 in c:\\users\\xingy\\onedrive\\documents\\personal\\projects\\ai bootcamp\\hr_bot\\venv\\lib\\site-packages (from requests<3,>=2->langchain-community<0.3,>=0.2->langchain-experimental) (3.3.2)\n",
      "Requirement already satisfied: certifi>=2017.4.17 in c:\\users\\xingy\\onedrive\\documents\\personal\\projects\\ai bootcamp\\hr_bot\\venv\\lib\\site-packages (from requests<3,>=2->langchain-community<0.3,>=0.2->langchain-experimental) (2024.2.2)\n",
      "Requirement already satisfied: idna<4,>=2.5 in c:\\users\\xingy\\onedrive\\documents\\personal\\projects\\ai bootcamp\\hr_bot\\venv\\lib\\site-packages (from requests<3,>=2->langchain-community<0.3,>=0.2->langchain-experimental) (3.7)\n",
      "Requirement already satisfied: urllib3<3,>=1.21.1 in c:\\users\\xingy\\onedrive\\documents\\personal\\projects\\ai bootcamp\\hr_bot\\venv\\lib\\site-packages (from requests<3,>=2->langchain-community<0.3,>=0.2->langchain-experimental) (2.2.1)\n",
      "Requirement already satisfied: greenlet!=0.4.17 in c:\\users\\xingy\\onedrive\\documents\\personal\\projects\\ai bootcamp\\hr_bot\\venv\\lib\\site-packages (from SQLAlchemy<3,>=1.4->langchain-community<0.3,>=0.2->langchain-experimental) (3.0.3)\n",
      "Collecting mypy-extensions>=0.3.0\n",
      "  Using cached mypy_extensions-1.0.0-py3-none-any.whl (4.7 kB)\n",
      "Installing collected packages: mypy-extensions, typing-inspect, marshmallow, dataclasses-json, langchain-community, langchain-experimental\n",
      "Successfully installed dataclasses-json-0.6.6 langchain-community-0.2.2 langchain-experimental-0.0.60 marshmallow-3.21.2 mypy-extensions-1.0.0 typing-inspect-0.9.0\n"
     ]
    },
    {
     "name": "stderr",
     "output_type": "stream",
     "text": [
      "WARNING: You are using pip version 21.1.1; however, version 24.0 is available.\n",
      "You should consider upgrading via the 'c:\\users\\xingy\\onedrive\\documents\\personal\\projects\\ai bootcamp\\hr_bot\\venv\\scripts\\python.exe -m pip install --upgrade pip' command.\n"
     ]
    },
    {
     "name": "stdout",
     "output_type": "stream",
     "text": [
      "Collecting pypdf\n",
      "  Downloading pypdf-4.2.0-py3-none-any.whl (290 kB)\n",
      "Requirement already satisfied: typing_extensions>=4.0 in c:\\users\\xingy\\onedrive\\documents\\personal\\projects\\ai bootcamp\\hr_bot\\venv\\lib\\site-packages (from pypdf) (4.12.0)\n",
      "Installing collected packages: pypdf\n",
      "Successfully installed pypdf-4.2.0\n"
     ]
    },
    {
     "name": "stderr",
     "output_type": "stream",
     "text": [
      "WARNING: You are using pip version 21.1.1; however, version 24.0 is available.\n",
      "You should consider upgrading via the 'c:\\users\\xingy\\onedrive\\documents\\personal\\projects\\ai bootcamp\\hr_bot\\venv\\scripts\\python.exe -m pip install --upgrade pip' command.\n"
     ]
    },
    {
     "name": "stdout",
     "output_type": "stream",
     "text": [
      "Collecting lolviz\n",
      "  Downloading lolviz-1.4.4.tar.gz (11 kB)\n",
      "Collecting graphviz\n",
      "  Downloading graphviz-0.20.3-py3-none-any.whl (47 kB)\n",
      "Using legacy 'setup.py install' for lolviz, since package 'wheel' is not installed.\n",
      "Installing collected packages: graphviz, lolviz\n",
      "    Running setup.py install for lolviz: started\n",
      "    Running setup.py install for lolviz: finished with status 'done'\n",
      "Successfully installed graphviz-0.20.3 lolviz-1.4.4\n"
     ]
    },
    {
     "name": "stderr",
     "output_type": "stream",
     "text": [
      "WARNING: You are using pip version 21.1.1; however, version 24.0 is available.\n",
      "You should consider upgrading via the 'c:\\users\\xingy\\onedrive\\documents\\personal\\projects\\ai bootcamp\\hr_bot\\venv\\scripts\\python.exe -m pip install --upgrade pip' command.\n"
     ]
    },
    {
     "name": "stdout",
     "output_type": "stream",
     "text": [
      "Collecting chromadb\n",
      "  Downloading chromadb-0.5.0-py3-none-any.whl (526 kB)\n",
      "Requirement already satisfied: tenacity>=8.2.3 in c:\\users\\xingy\\onedrive\\documents\\personal\\projects\\ai bootcamp\\hr_bot\\venv\\lib\\site-packages (from chromadb) (8.3.0)\n",
      "Collecting kubernetes>=28.1.0\n",
      "  Downloading kubernetes-29.0.0-py2.py3-none-any.whl (1.6 MB)\n",
      "Collecting tokenizers>=0.13.2\n",
      "  Downloading tokenizers-0.19.1-cp39-none-win_amd64.whl (2.2 MB)\n",
      "Collecting opentelemetry-sdk>=1.2.0\n",
      "  Downloading opentelemetry_sdk-1.25.0-py3-none-any.whl (107 kB)\n",
      "Collecting opentelemetry-instrumentation-fastapi>=0.41b0\n",
      "  Downloading opentelemetry_instrumentation_fastapi-0.46b0-py3-none-any.whl (11 kB)\n",
      "Collecting pypika>=0.48.9\n",
      "  Downloading PyPika-0.48.9.tar.gz (67 kB)\n",
      "  Installing build dependencies: started\n",
      "  Installing build dependencies: finished with status 'done'\n",
      "  Getting requirements to build wheel: started\n",
      "  Getting requirements to build wheel: finished with status 'done'\n",
      "    Preparing wheel metadata: started\n",
      "    Preparing wheel metadata: finished with status 'done'\n",
      "Requirement already satisfied: PyYAML>=6.0.0 in c:\\users\\xingy\\onedrive\\documents\\personal\\projects\\ai bootcamp\\hr_bot\\venv\\lib\\site-packages (from chromadb) (6.0.1)\n",
      "Collecting fastapi>=0.95.2\n",
      "  Downloading fastapi-0.111.0-py3-none-any.whl (91 kB)\n",
      "Requirement already satisfied: numpy>=1.22.5 in c:\\users\\xingy\\onedrive\\documents\\personal\\projects\\ai bootcamp\\hr_bot\\venv\\lib\\site-packages (from chromadb) (1.26.4)\n",
      "Collecting opentelemetry-exporter-otlp-proto-grpc>=1.2.0\n",
      "  Downloading opentelemetry_exporter_otlp_proto_grpc-1.25.0-py3-none-any.whl (18 kB)\n",
      "Collecting posthog>=2.4.0\n",
      "  Downloading posthog-3.5.0-py2.py3-none-any.whl (41 kB)\n",
      "Requirement already satisfied: tqdm>=4.65.0 in c:\\users\\xingy\\onedrive\\documents\\personal\\projects\\ai bootcamp\\hr_bot\\venv\\lib\\site-packages (from chromadb) (4.66.4)\n",
      "Collecting opentelemetry-api>=1.2.0\n",
      "  Downloading opentelemetry_api-1.25.0-py3-none-any.whl (59 kB)\n",
      "Requirement already satisfied: overrides>=7.3.1 in c:\\users\\xingy\\onedrive\\documents\\personal\\projects\\ai bootcamp\\hr_bot\\venv\\lib\\site-packages (from chromadb) (7.7.0)\n",
      "Collecting onnxruntime>=1.14.1\n",
      "  Downloading onnxruntime-1.18.0-cp39-cp39-win_amd64.whl (5.6 MB)\n",
      "Requirement already satisfied: typing-extensions>=4.5.0 in c:\\users\\xingy\\onedrive\\documents\\personal\\projects\\ai bootcamp\\hr_bot\\venv\\lib\\site-packages (from chromadb) (4.12.0)\n",
      "Requirement already satisfied: orjson>=3.9.12 in c:\\users\\xingy\\onedrive\\documents\\personal\\projects\\ai bootcamp\\hr_bot\\venv\\lib\\site-packages (from chromadb) (3.10.3)\n",
      "Collecting grpcio>=1.58.0\n",
      "  Downloading grpcio-1.64.1-cp39-cp39-win_amd64.whl (4.1 MB)\n",
      "Requirement already satisfied: requests>=2.28 in c:\\users\\xingy\\onedrive\\documents\\personal\\projects\\ai bootcamp\\hr_bot\\venv\\lib\\site-packages (from chromadb) (2.32.2)\n",
      "Requirement already satisfied: pydantic>=1.9 in c:\\users\\xingy\\onedrive\\documents\\personal\\projects\\ai bootcamp\\hr_bot\\venv\\lib\\site-packages (from chromadb) (2.7.1)\n",
      "Collecting uvicorn[standard]>=0.18.3\n",
      "  Downloading uvicorn-0.30.1-py3-none-any.whl (62 kB)\n",
      "Collecting importlib-resources\n",
      "  Downloading importlib_resources-6.4.0-py3-none-any.whl (38 kB)\n",
      "Collecting typer>=0.9.0\n",
      "  Downloading typer-0.12.3-py3-none-any.whl (47 kB)\n",
      "Collecting bcrypt>=4.0.1\n",
      "  Downloading bcrypt-4.1.3-cp39-abi3-win_amd64.whl (158 kB)\n",
      "Collecting build>=1.0.3\n",
      "  Downloading build-1.2.1-py3-none-any.whl (21 kB)\n",
      "Collecting mmh3>=4.0.1\n",
      "  Downloading mmh3-4.1.0-cp39-cp39-win_amd64.whl (31 kB)\n",
      "Collecting chroma-hnswlib==0.7.3\n",
      "  Downloading chroma_hnswlib-0.7.3-cp39-cp39-win_amd64.whl (150 kB)\n",
      "Requirement already satisfied: importlib-metadata>=4.6 in c:\\users\\xingy\\onedrive\\documents\\personal\\projects\\ai bootcamp\\hr_bot\\venv\\lib\\site-packages (from build>=1.0.3->chromadb) (7.1.0)\n",
      "Requirement already satisfied: tomli>=1.1.0 in c:\\users\\xingy\\onedrive\\documents\\personal\\projects\\ai bootcamp\\hr_bot\\venv\\lib\\site-packages (from build>=1.0.3->chromadb) (2.0.1)\n",
      "Requirement already satisfied: packaging>=19.1 in c:\\users\\xingy\\onedrive\\documents\\personal\\projects\\ai bootcamp\\hr_bot\\venv\\lib\\site-packages (from build>=1.0.3->chromadb) (23.2)\n",
      "Requirement already satisfied: colorama in c:\\users\\xingy\\onedrive\\documents\\personal\\projects\\ai bootcamp\\hr_bot\\venv\\lib\\site-packages (from build>=1.0.3->chromadb) (0.4.6)\n",
      "Collecting pyproject_hooks\n",
      "  Downloading pyproject_hooks-1.1.0-py3-none-any.whl (9.2 kB)\n",
      "Collecting ujson!=4.0.2,!=4.1.0,!=4.2.0,!=4.3.0,!=5.0.0,!=5.1.0,>=4.0.1\n",
      "  Downloading ujson-5.10.0-cp39-cp39-win_amd64.whl (42 kB)\n",
      "Collecting email_validator>=2.0.0\n",
      "  Downloading email_validator-2.1.1-py3-none-any.whl (30 kB)\n",
      "Requirement already satisfied: jinja2>=2.11.2 in c:\\users\\xingy\\onedrive\\documents\\personal\\projects\\ai bootcamp\\hr_bot\\venv\\lib\\site-packages (from fastapi>=0.95.2->chromadb) (3.1.4)\n",
      "Collecting python-multipart>=0.0.7\n",
      "  Downloading python_multipart-0.0.9-py3-none-any.whl (22 kB)\n",
      "Collecting fastapi-cli>=0.0.2\n",
      "  Downloading fastapi_cli-0.0.4-py3-none-any.whl (9.5 kB)\n",
      "Collecting starlette<0.38.0,>=0.37.2\n",
      "  Downloading starlette-0.37.2-py3-none-any.whl (71 kB)\n",
      "Requirement already satisfied: httpx>=0.23.0 in c:\\users\\xingy\\onedrive\\documents\\personal\\projects\\ai bootcamp\\hr_bot\\venv\\lib\\site-packages (from fastapi>=0.95.2->chromadb) (0.27.0)\n",
      "Requirement already satisfied: idna>=2.0.0 in c:\\users\\xingy\\onedrive\\documents\\personal\\projects\\ai bootcamp\\hr_bot\\venv\\lib\\site-packages (from email_validator>=2.0.0->fastapi>=0.95.2->chromadb) (3.7)\n",
      "Collecting dnspython>=2.0.0\n",
      "  Downloading dnspython-2.6.1-py3-none-any.whl (307 kB)\n",
      "Requirement already satisfied: anyio in c:\\users\\xingy\\onedrive\\documents\\personal\\projects\\ai bootcamp\\hr_bot\\venv\\lib\\site-packages (from httpx>=0.23.0->fastapi>=0.95.2->chromadb) (4.3.0)\n",
      "Requirement already satisfied: certifi in c:\\users\\xingy\\onedrive\\documents\\personal\\projects\\ai bootcamp\\hr_bot\\venv\\lib\\site-packages (from httpx>=0.23.0->fastapi>=0.95.2->chromadb) (2024.2.2)\n",
      "Requirement already satisfied: httpcore==1.* in c:\\users\\xingy\\onedrive\\documents\\personal\\projects\\ai bootcamp\\hr_bot\\venv\\lib\\site-packages (from httpx>=0.23.0->fastapi>=0.95.2->chromadb) (1.0.5)\n",
      "Requirement already satisfied: sniffio in c:\\users\\xingy\\onedrive\\documents\\personal\\projects\\ai bootcamp\\hr_bot\\venv\\lib\\site-packages (from httpx>=0.23.0->fastapi>=0.95.2->chromadb) (1.3.1)\n",
      "Requirement already satisfied: h11<0.15,>=0.13 in c:\\users\\xingy\\onedrive\\documents\\personal\\projects\\ai bootcamp\\hr_bot\\venv\\lib\\site-packages (from httpcore==1.*->httpx>=0.23.0->fastapi>=0.95.2->chromadb) (0.14.0)\n",
      "Requirement already satisfied: zipp>=0.5 in c:\\users\\xingy\\onedrive\\documents\\personal\\projects\\ai bootcamp\\hr_bot\\venv\\lib\\site-packages (from importlib-metadata>=4.6->build>=1.0.3->chromadb) (3.18.2)\n",
      "Requirement already satisfied: MarkupSafe>=2.0 in c:\\users\\xingy\\onedrive\\documents\\personal\\projects\\ai bootcamp\\hr_bot\\venv\\lib\\site-packages (from jinja2>=2.11.2->fastapi>=0.95.2->chromadb) (2.1.5)\n",
      "Requirement already satisfied: websocket-client!=0.40.0,!=0.41.*,!=0.42.*,>=0.32.0 in c:\\users\\xingy\\onedrive\\documents\\personal\\projects\\ai bootcamp\\hr_bot\\venv\\lib\\site-packages (from kubernetes>=28.1.0->chromadb) (1.8.0)\n",
      "Requirement already satisfied: urllib3>=1.24.2 in c:\\users\\xingy\\onedrive\\documents\\personal\\projects\\ai bootcamp\\hr_bot\\venv\\lib\\site-packages (from kubernetes>=28.1.0->chromadb) (2.2.1)\n",
      "Collecting google-auth>=1.0.1\n",
      "  Downloading google_auth-2.29.0-py2.py3-none-any.whl (189 kB)\n",
      "Collecting requests-oauthlib\n",
      "  Downloading requests_oauthlib-2.0.0-py2.py3-none-any.whl (24 kB)\n",
      "Collecting oauthlib>=3.2.2\n",
      "  Downloading oauthlib-3.2.2-py3-none-any.whl (151 kB)\n",
      "Requirement already satisfied: python-dateutil>=2.5.3 in c:\\users\\xingy\\onedrive\\documents\\personal\\projects\\ai bootcamp\\hr_bot\\venv\\lib\\site-packages (from kubernetes>=28.1.0->chromadb) (2.9.0.post0)\n",
      "Requirement already satisfied: six>=1.9.0 in c:\\users\\xingy\\onedrive\\documents\\personal\\projects\\ai bootcamp\\hr_bot\\venv\\lib\\site-packages (from kubernetes>=28.1.0->chromadb) (1.16.0)\n",
      "Collecting cachetools<6.0,>=2.0.0\n",
      "  Using cached cachetools-5.3.3-py3-none-any.whl (9.3 kB)\n",
      "Collecting pyasn1-modules>=0.2.1\n",
      "  Downloading pyasn1_modules-0.4.0-py3-none-any.whl (181 kB)\n",
      "Collecting rsa<5,>=3.1.4\n",
      "  Downloading rsa-4.9-py3-none-any.whl (34 kB)\n",
      "Collecting protobuf\n",
      "  Downloading protobuf-5.27.0-cp39-cp39-win_amd64.whl (426 kB)\n",
      "Collecting sympy\n",
      "  Downloading sympy-1.12.1-py3-none-any.whl (5.7 MB)\n",
      "Collecting coloredlogs\n",
      "  Downloading coloredlogs-15.0.1-py2.py3-none-any.whl (46 kB)\n",
      "Collecting flatbuffers\n",
      "  Downloading flatbuffers-24.3.25-py2.py3-none-any.whl (26 kB)\n",
      "Collecting deprecated>=1.2.6\n",
      "  Downloading Deprecated-1.2.14-py2.py3-none-any.whl (9.6 kB)\n",
      "Collecting wrapt<2,>=1.10\n",
      "  Downloading wrapt-1.16.0-cp39-cp39-win_amd64.whl (37 kB)\n",
      "Collecting opentelemetry-exporter-otlp-proto-common==1.25.0\n",
      "  Downloading opentelemetry_exporter_otlp_proto_common-1.25.0-py3-none-any.whl (17 kB)\n",
      "Collecting googleapis-common-protos~=1.52\n",
      "  Downloading googleapis_common_protos-1.63.1-py2.py3-none-any.whl (229 kB)\n",
      "Collecting opentelemetry-proto==1.25.0\n",
      "  Downloading opentelemetry_proto-1.25.0-py3-none-any.whl (52 kB)\n",
      "Collecting protobuf\n",
      "  Using cached protobuf-4.25.3-cp39-cp39-win_amd64.whl (413 kB)\n",
      "Collecting opentelemetry-instrumentation-asgi==0.46b0\n",
      "  Downloading opentelemetry_instrumentation_asgi-0.46b0-py3-none-any.whl (14 kB)\n",
      "Collecting opentelemetry-util-http==0.46b0\n",
      "  Downloading opentelemetry_util_http-0.46b0-py3-none-any.whl (6.9 kB)\n",
      "Collecting opentelemetry-semantic-conventions==0.46b0\n",
      "  Downloading opentelemetry_semantic_conventions-0.46b0-py3-none-any.whl (130 kB)\n",
      "Collecting opentelemetry-instrumentation==0.46b0\n",
      "  Downloading opentelemetry_instrumentation-0.46b0-py3-none-any.whl (29 kB)\n",
      "Requirement already satisfied: setuptools>=16.0 in c:\\users\\xingy\\onedrive\\documents\\personal\\projects\\ai bootcamp\\hr_bot\\venv\\lib\\site-packages (from opentelemetry-instrumentation==0.46b0->opentelemetry-instrumentation-fastapi>=0.41b0->chromadb) (56.0.0)\n",
      "Collecting asgiref~=3.0\n",
      "  Downloading asgiref-3.8.1-py3-none-any.whl (23 kB)\n",
      "Collecting backoff>=1.10.0\n",
      "  Downloading backoff-2.2.1-py3-none-any.whl (15 kB)\n",
      "Collecting monotonic>=1.5\n",
      "  Downloading monotonic-1.6-py2.py3-none-any.whl (8.2 kB)\n",
      "Collecting pyasn1<0.7.0,>=0.4.6\n",
      "  Downloading pyasn1-0.6.0-py2.py3-none-any.whl (85 kB)\n",
      "Requirement already satisfied: annotated-types>=0.4.0 in c:\\users\\xingy\\onedrive\\documents\\personal\\projects\\ai bootcamp\\hr_bot\\venv\\lib\\site-packages (from pydantic>=1.9->chromadb) (0.7.0)\n",
      "Requirement already satisfied: pydantic-core==2.18.2 in c:\\users\\xingy\\onedrive\\documents\\personal\\projects\\ai bootcamp\\hr_bot\\venv\\lib\\site-packages (from pydantic>=1.9->chromadb) (2.18.2)\n",
      "Requirement already satisfied: charset-normalizer<4,>=2 in c:\\users\\xingy\\onedrive\\documents\\personal\\projects\\ai bootcamp\\hr_bot\\venv\\lib\\site-packages (from requests>=2.28->chromadb) (3.3.2)\n",
      "Requirement already satisfied: exceptiongroup>=1.0.2 in c:\\users\\xingy\\onedrive\\documents\\personal\\projects\\ai bootcamp\\hr_bot\\venv\\lib\\site-packages (from anyio->httpx>=0.23.0->fastapi>=0.95.2->chromadb) (1.2.1)\n",
      "Collecting huggingface-hub<1.0,>=0.16.4\n",
      "  Downloading huggingface_hub-0.23.3-py3-none-any.whl (401 kB)\n",
      "Collecting filelock\n",
      "  Downloading filelock-3.14.0-py3-none-any.whl (12 kB)\n",
      "Collecting fsspec>=2023.5.0\n",
      "  Downloading fsspec-2024.6.0-py3-none-any.whl (176 kB)\n",
      "Collecting shellingham>=1.3.0\n",
      "  Downloading shellingham-1.5.4-py2.py3-none-any.whl (9.8 kB)\n",
      "Collecting rich>=10.11.0\n",
      "  Using cached rich-13.7.1-py3-none-any.whl (240 kB)\n",
      "Collecting click>=8.0.0\n",
      "  Using cached click-8.1.7-py3-none-any.whl (97 kB)\n",
      "Requirement already satisfied: pygments<3.0.0,>=2.13.0 in c:\\users\\xingy\\onedrive\\documents\\personal\\projects\\ai bootcamp\\hr_bot\\venv\\lib\\site-packages (from rich>=10.11.0->typer>=0.9.0->chromadb) (2.18.0)\n",
      "Collecting markdown-it-py>=2.2.0\n",
      "  Using cached markdown_it_py-3.0.0-py3-none-any.whl (87 kB)\n",
      "Collecting mdurl~=0.1\n",
      "  Using cached mdurl-0.1.2-py3-none-any.whl (10.0 kB)\n",
      "Requirement already satisfied: python-dotenv>=0.13 in c:\\users\\xingy\\onedrive\\documents\\personal\\projects\\ai bootcamp\\hr_bot\\venv\\lib\\site-packages (from uvicorn[standard]>=0.18.3->chromadb) (1.0.1)\n",
      "Collecting httptools>=0.5.0\n",
      "  Downloading httptools-0.6.1-cp39-cp39-win_amd64.whl (60 kB)\n",
      "Collecting websockets>=10.4\n",
      "  Downloading websockets-12.0-cp39-cp39-win_amd64.whl (124 kB)\n",
      "Collecting watchfiles>=0.13\n",
      "  Downloading watchfiles-0.22.0-cp39-none-win_amd64.whl (281 kB)\n",
      "Collecting humanfriendly>=9.1\n",
      "  Downloading humanfriendly-10.0-py2.py3-none-any.whl (86 kB)\n",
      "Collecting pyreadline3\n",
      "  Downloading pyreadline3-3.4.1-py3-none-any.whl (95 kB)\n",
      "Collecting mpmath<1.4.0,>=1.1.0\n",
      "  Downloading mpmath-1.3.0-py3-none-any.whl (536 kB)\n",
      "Building wheels for collected packages: pypika\n",
      "  Building wheel for pypika (PEP 517): started\n",
      "  Building wheel for pypika (PEP 517): finished with status 'done'\n",
      "  Created wheel for pypika: filename=PyPika-0.48.9-py2.py3-none-any.whl size=53835 sha256=6b71b06581d9468decf5e2c161e2ff733ddc80c332879f65c70e74bbe824a53c\n",
      "  Stored in directory: c:\\users\\xingy\\appdata\\local\\pip\\cache\\wheels\\f7\\02\\64\\d541eac67ec459309d1fb19e727f58ecf7ffb4a8bf42d4cfe5\n",
      "Successfully built pypika\n",
      "Installing collected packages: wrapt, mdurl, markdown-it-py, deprecated, shellingham, rich, pyreadline3, pyasn1, protobuf, opentelemetry-api, click, websockets, watchfiles, uvicorn, typer, rsa, pyasn1-modules, opentelemetry-util-http, opentelemetry-semantic-conventions, opentelemetry-proto, opentelemetry-instrumentation, oauthlib, mpmath, humanfriendly, httptools, fsspec, filelock, dnspython, cachetools, asgiref, ujson, sympy, starlette, requests-oauthlib, python-multipart, pyproject-hooks, opentelemetry-sdk, opentelemetry-instrumentation-asgi, opentelemetry-exporter-otlp-proto-common, monotonic, huggingface-hub, grpcio, googleapis-common-protos, google-auth, flatbuffers, fastapi-cli, email-validator, coloredlogs, backoff, tokenizers, pypika, posthog, opentelemetry-instrumentation-fastapi, opentelemetry-exporter-otlp-proto-grpc, onnxruntime, mmh3, kubernetes, importlib-resources, fastapi, chroma-hnswlib, build, bcrypt, chromadb\n",
      "Successfully installed asgiref-3.8.1 backoff-2.2.1 bcrypt-4.1.3 build-1.2.1 cachetools-5.3.3 chroma-hnswlib-0.7.3 chromadb-0.5.0 click-8.1.7 coloredlogs-15.0.1 deprecated-1.2.14 dnspython-2.6.1 email-validator-2.1.1 fastapi-0.111.0 fastapi-cli-0.0.4 filelock-3.14.0 flatbuffers-24.3.25 fsspec-2024.6.0 google-auth-2.29.0 googleapis-common-protos-1.63.1 grpcio-1.64.1 httptools-0.6.1 huggingface-hub-0.23.3 humanfriendly-10.0 importlib-resources-6.4.0 kubernetes-29.0.0 markdown-it-py-3.0.0 mdurl-0.1.2 mmh3-4.1.0 monotonic-1.6 mpmath-1.3.0 oauthlib-3.2.2 onnxruntime-1.18.0 opentelemetry-api-1.25.0 opentelemetry-exporter-otlp-proto-common-1.25.0 opentelemetry-exporter-otlp-proto-grpc-1.25.0 opentelemetry-instrumentation-0.46b0 opentelemetry-instrumentation-asgi-0.46b0 opentelemetry-instrumentation-fastapi-0.46b0 opentelemetry-proto-1.25.0 opentelemetry-sdk-1.25.0 opentelemetry-semantic-conventions-0.46b0 opentelemetry-util-http-0.46b0 posthog-3.5.0 protobuf-4.25.3 pyasn1-0.6.0 pyasn1-modules-0.4.0 pypika-0.48.9 pyproject-hooks-1.1.0 pyreadline3-3.4.1 python-multipart-0.0.9 requests-oauthlib-2.0.0 rich-13.7.1 rsa-4.9 shellingham-1.5.4 starlette-0.37.2 sympy-1.12.1 tokenizers-0.19.1 typer-0.12.3 ujson-5.10.0 uvicorn-0.30.1 watchfiles-0.22.0 websockets-12.0 wrapt-1.16.0\n"
     ]
    },
    {
     "name": "stderr",
     "output_type": "stream",
     "text": [
      "WARNING: You are using pip version 21.1.1; however, version 24.0 is available.\n",
      "You should consider upgrading via the 'c:\\users\\xingy\\onedrive\\documents\\personal\\projects\\ai bootcamp\\hr_bot\\venv\\scripts\\python.exe -m pip install --upgrade pip' command.\n"
     ]
    },
    {
     "name": "stdout",
     "output_type": "stream",
     "text": [
      "Collecting rank_bm25\n",
      "  Downloading rank_bm25-0.2.2-py3-none-any.whl (8.6 kB)\n",
      "Requirement already satisfied: numpy in c:\\users\\xingy\\onedrive\\documents\\personal\\projects\\ai bootcamp\\hr_bot\\venv\\lib\\site-packages (from rank_bm25) (1.26.4)\n",
      "Installing collected packages: rank-bm25\n",
      "Successfully installed rank-bm25-0.2.2\n"
     ]
    },
    {
     "name": "stderr",
     "output_type": "stream",
     "text": [
      "WARNING: You are using pip version 21.1.1; however, version 24.0 is available.\n",
      "You should consider upgrading via the 'c:\\users\\xingy\\onedrive\\documents\\personal\\projects\\ai bootcamp\\hr_bot\\venv\\scripts\\python.exe -m pip install --upgrade pip' command.\n"
     ]
    },
    {
     "name": "stdout",
     "output_type": "stream",
     "text": [
      "Collecting umap-learn\n",
      "  Downloading umap_learn-0.5.6-py3-none-any.whl (85 kB)\n",
      "Requirement already satisfied: numpy>=1.17 in c:\\users\\xingy\\onedrive\\documents\\personal\\projects\\ai bootcamp\\hr_bot\\venv\\lib\\site-packages (from umap-learn) (1.26.4)\n",
      "Collecting pynndescent>=0.5\n",
      "  Downloading pynndescent-0.5.12-py3-none-any.whl (56 kB)\n",
      "Collecting scipy>=1.3.1\n",
      "  Downloading scipy-1.13.1-cp39-cp39-win_amd64.whl (46.2 MB)\n",
      "Requirement already satisfied: tqdm in c:\\users\\xingy\\onedrive\\documents\\personal\\projects\\ai bootcamp\\hr_bot\\venv\\lib\\site-packages (from umap-learn) (4.66.4)\n",
      "Collecting numba>=0.51.2\n",
      "  Downloading numba-0.59.1-cp39-cp39-win_amd64.whl (2.6 MB)\n",
      "Collecting scikit-learn>=0.22\n",
      "  Downloading scikit_learn-1.5.0-cp39-cp39-win_amd64.whl (11.0 MB)\n",
      "Collecting llvmlite<0.43,>=0.42.0dev0\n",
      "  Downloading llvmlite-0.42.0-cp39-cp39-win_amd64.whl (28.1 MB)\n",
      "Collecting joblib>=0.11\n",
      "  Downloading joblib-1.4.2-py3-none-any.whl (301 kB)\n",
      "Collecting threadpoolctl>=3.1.0\n",
      "  Downloading threadpoolctl-3.5.0-py3-none-any.whl (18 kB)\n",
      "Requirement already satisfied: colorama in c:\\users\\xingy\\onedrive\\documents\\personal\\projects\\ai bootcamp\\hr_bot\\venv\\lib\\site-packages (from tqdm->umap-learn) (0.4.6)\n",
      "Installing collected packages: threadpoolctl, scipy, llvmlite, joblib, scikit-learn, numba, pynndescent, umap-learn\n",
      "Successfully installed joblib-1.4.2 llvmlite-0.42.0 numba-0.59.1 pynndescent-0.5.12 scikit-learn-1.5.0 scipy-1.13.1 threadpoolctl-3.5.0 umap-learn-0.5.6\n"
     ]
    },
    {
     "name": "stderr",
     "output_type": "stream",
     "text": [
      "WARNING: You are using pip version 21.1.1; however, version 24.0 is available.\n",
      "You should consider upgrading via the 'c:\\users\\xingy\\onedrive\\documents\\personal\\projects\\ai bootcamp\\hr_bot\\venv\\scripts\\python.exe -m pip install --upgrade pip' command.\n"
     ]
    },
    {
     "name": "stdout",
     "output_type": "stream",
     "text": [
      "Requirement already satisfied: tqdm in c:\\users\\xingy\\onedrive\\documents\\personal\\projects\\ai bootcamp\\hr_bot\\venv\\lib\\site-packages (4.66.4)\n",
      "Requirement already satisfied: colorama in c:\\users\\xingy\\onedrive\\documents\\personal\\projects\\ai bootcamp\\hr_bot\\venv\\lib\\site-packages (from tqdm) (0.4.6)\n"
     ]
    },
    {
     "name": "stderr",
     "output_type": "stream",
     "text": [
      "WARNING: You are using pip version 21.1.1; however, version 24.0 is available.\n",
      "You should consider upgrading via the 'c:\\users\\xingy\\onedrive\\documents\\personal\\projects\\ai bootcamp\\hr_bot\\venv\\scripts\\python.exe -m pip install --upgrade pip' command.\n"
     ]
    },
    {
     "name": "stdout",
     "output_type": "stream",
     "text": [
      "Requirement already satisfied: tiktoken in c:\\users\\xingy\\onedrive\\documents\\personal\\projects\\ai bootcamp\\hr_bot\\venv\\lib\\site-packages (0.7.0)\n",
      "Requirement already satisfied: requests>=2.26.0 in c:\\users\\xingy\\onedrive\\documents\\personal\\projects\\ai bootcamp\\hr_bot\\venv\\lib\\site-packages (from tiktoken) (2.32.2)\n",
      "Requirement already satisfied: regex>=2022.1.18 in c:\\users\\xingy\\onedrive\\documents\\personal\\projects\\ai bootcamp\\hr_bot\\venv\\lib\\site-packages (from tiktoken) (2024.5.15)\n",
      "Requirement already satisfied: idna<4,>=2.5 in c:\\users\\xingy\\onedrive\\documents\\personal\\projects\\ai bootcamp\\hr_bot\\venv\\lib\\site-packages (from requests>=2.26.0->tiktoken) (3.7)\n",
      "Requirement already satisfied: certifi>=2017.4.17 in c:\\users\\xingy\\onedrive\\documents\\personal\\projects\\ai bootcamp\\hr_bot\\venv\\lib\\site-packages (from requests>=2.26.0->tiktoken) (2024.2.2)\n",
      "Requirement already satisfied: charset-normalizer<4,>=2 in c:\\users\\xingy\\onedrive\\documents\\personal\\projects\\ai bootcamp\\hr_bot\\venv\\lib\\site-packages (from requests>=2.26.0->tiktoken) (3.3.2)\n",
      "Requirement already satisfied: urllib3<3,>=1.21.1 in c:\\users\\xingy\\onedrive\\documents\\personal\\projects\\ai bootcamp\\hr_bot\\venv\\lib\\site-packages (from requests>=2.26.0->tiktoken) (2.2.1)\n"
     ]
    },
    {
     "name": "stderr",
     "output_type": "stream",
     "text": [
      "WARNING: You are using pip version 21.1.1; however, version 24.0 is available.\n",
      "You should consider upgrading via the 'c:\\users\\xingy\\onedrive\\documents\\personal\\projects\\ai bootcamp\\hr_bot\\venv\\scripts\\python.exe -m pip install --upgrade pip' command.\n"
     ]
    }
   ],
   "source": [
    "!pip install openai\n",
    "!pip install langchain\n",
    "!pip install langchain-openai\n",
    "!pip install langchain-experimental\n",
    "!pip install pypdf\n",
    "!pip install lolviz\n",
    "!pip install chromadb\n",
    "!pip install rank_bm25\n",
    "!pip install umap-learn\n",
    "!pip install tqdm\n",
    "!pip install tiktoken"
   ]
  },
  {
   "cell_type": "code",
   "execution_count": 2,
   "metadata": {},
   "outputs": [],
   "source": [
    "from dotenv import load_dotenv\n",
    "from openai import OpenAI\n",
    "import os\n",
    "import tiktoken\n",
    "\n",
    "# Load .env into Environment Varaibles\n",
    "load_dotenv('.env')\n",
    "\n",
    "# Define default model\n",
    "model_default = \"gpt-4o\"\n",
    "\n",
    "# Instantiate the OpenAI client\n",
    "client = OpenAI()"
   ]
  },
  {
   "cell_type": "code",
   "execution_count": 3,
   "metadata": {},
   "outputs": [
    {
     "data": {
      "text/plain": [
       "'Hiking and surfing are healthy activities as they involve physical exercise and being outdoors. Spa activities can also promote relaxation and stress relief, which can contribute to overall well-being. Gaming can be a fun activity but may not be as physically healthy as the other options.'"
      ]
     },
     "execution_count": 3,
     "metadata": {},
     "output_type": "execute_result"
    }
   ],
   "source": [
    "def get_completion_by_messages(messages, model=\"gpt-3.5-turbo\", temperature=0, top_p=1.0, max_tokens=1024, n=1):\n",
    "    response = client.chat.completions.create(\n",
    "        model=model,\n",
    "        messages=messages,\n",
    "        temperature=temperature,\n",
    "        top_p=top_p,\n",
    "        max_tokens=max_tokens,\n",
    "        n=1\n",
    "    )\n",
    "    return response.choices[0].message.content\n",
    "\n",
    "messages=[\n",
    "{\"role\": \"system\", \"content\": \"You are a helpful assistant.\"},\n",
    "{\"role\": \"user\", \"content\": \"List some Fun Activities\"},\n",
    "{\"role\": \"assistant\", \"content\": \"Spa, Hiking, Surfing, and Gaming\"},\n",
    "{\"role\": \"user\", \"content\": \"Which are healthy?\"}\n",
    "]\n",
    "\n",
    "get_completion_by_messages(messages)"
   ]
  },
  {
   "cell_type": "code",
   "execution_count": null,
   "metadata": {},
   "outputs": [],
   "source": [
    "from langchain_community.document_loaders import Docx2txtLoader\n",
    "\n",
    "loader = Docx2txtLoader(\"./data/DRAFT 1_Maternity Leave Information.docx\")\n",
    "docs = loader.load()\n",
    "\n",
    "from langchain.text_splitter import RecursiveCharacterTextSplitter\n",
    "text_splitter = RecursiveCharacterTextSplitter(\n",
    "    separators=[\"\\n\\n\", \"\\n\", \" \", \"\"],\n",
    "    chunk_size=500,\n",
    "    chunk_overlap=50,\n",
    "    length_function=count_tokens\n",
    ")\n",
    "\n",
    "splitted_documents = text_splitter.split_documents(pages)"
   ]
  }
 ],
 "metadata": {
  "kernelspec": {
   "display_name": "venv",
   "language": "python",
   "name": "python3"
  },
  "language_info": {
   "codemirror_mode": {
    "name": "ipython",
    "version": 3
   },
   "file_extension": ".py",
   "mimetype": "text/x-python",
   "name": "python",
   "nbconvert_exporter": "python",
   "pygments_lexer": "ipython3",
   "version": "3.9.5"
  }
 },
 "nbformat": 4,
 "nbformat_minor": 2
}
