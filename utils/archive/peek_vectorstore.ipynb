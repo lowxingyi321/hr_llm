{
 "cells": [
  {
   "cell_type": "code",
   "execution_count": 1,
   "metadata": {},
   "outputs": [
    {
     "ename": "ModuleNotFoundError",
     "evalue": "No module named 'helper_functions'",
     "output_type": "error",
     "traceback": [
      "\u001b[1;31m---------------------------------------------------------------------------\u001b[0m",
      "\u001b[1;31mModuleNotFoundError\u001b[0m                       Traceback (most recent call last)",
      "Cell \u001b[1;32mIn[1], line 1\u001b[0m\n\u001b[1;32m----> 1\u001b[0m \u001b[38;5;28;01mfrom\u001b[39;00m \u001b[38;5;21;01mhelper_functions\u001b[39;00m \u001b[38;5;28;01mimport\u001b[39;00m llm\n\u001b[0;32m      2\u001b[0m \u001b[38;5;28;01mimport\u001b[39;00m \u001b[38;5;21;01mpandas\u001b[39;00m \u001b[38;5;28;01mas\u001b[39;00m \u001b[38;5;21;01mpd\u001b[39;00m\n\u001b[0;32m      3\u001b[0m \u001b[38;5;28;01mfrom\u001b[39;00m \u001b[38;5;21;01mdatasets\u001b[39;00m \u001b[38;5;28;01mimport\u001b[39;00m Dataset\n",
      "\u001b[1;31mModuleNotFoundError\u001b[0m: No module named 'helper_functions'"
     ]
    }
   ],
   "source": [
    "# from helper_functions import llm\n",
    "# import pandas as pd\n",
    "# from datasets import Dataset\n",
    "# from langchain.prompts import PromptTemplate\n",
    "# from langchain_community.document_loaders import Docx2txtLoader\n",
    "# from langchain_community.document_loaders import TextLoader\n",
    "# from langchain_community.document_loaders import UnstructuredPDFLoader\n",
    "# from langchain_text_splitters import CharacterTextSplitter, RecursiveCharacterTextSplitter\n",
    "# from langchain_experimental.text_splitter import SemanticChunker\n",
    "# from langchain_community.vectorstores import Chroma\n",
    "# from langchain_openai import OpenAIEmbeddings\n",
    "# from langchain.chains import RetrievalQA\n",
    "# from langchain_openai import ChatOpenAI\n",
    "\n",
    "# # Constants\n",
    "# model_default = \"gpt-4o\"\n",
    "# persist_directory = \"chroma_db\"\n",
    "\n",
    "# # Load\n",
    "# file_paths = [\"./data/DRAFT 1_Maternity Leave Information.docx\",\n",
    "#               # \"./data/local transport policy FAQ.pdf\"\n",
    "#               ]\n",
    "\n",
    "# file = file_paths[0]\n",
    "# loader = Docx2txtLoader(file)\n",
    "# doc = loader.load() #loader returns a list with 1 document element\n",
    "# doc[0].metadata['filename'] = doc[0].metadata['source']\n",
    "\n",
    "\n",
    "# embeddings_model = OpenAIEmbeddings(model='text-embedding-3-small')\n",
    "# vectorstore = Chroma.from_documents(doc, \n",
    "#                                     embeddings_model,\n",
    "#                                     persist_directory=persist_directory,\n",
    "#                                     collection_name=\"maternity\"\n",
    "#                                     )"
   ]
  },
  {
   "cell_type": "code",
   "execution_count": 5,
   "metadata": {},
   "outputs": [
    {
     "data": {
      "text/plain": [
       "[Document(page_content='Q6: How is the number of flexible Paternity Leave, Maternity Leave, Adoption Leave days calculated for an officer on part-time employment?\\n\\nAnswer: It will be pro-rated based on the leave entitlement of an officer on full-time employment, using a full-time work week of 42 hours. E.g. If officer works 21 hours a week, he will be entitled to 5 days of Paternity Leave.', metadata={'filename': './data/DRAFT 1_Maternity Leave Information.docx', 'source': './data/DRAFT 1_Maternity Leave Information.docx'}),\n",
       " Document(page_content='\\u200b\\u200b\\u200bMaternity Leave is granted to female officers to look after their new-born child(ren).\\n\\n\\n\\nFor this section, \"confinement\" means the delivery of a child, and \"the organisation\" denotes Enterprise Singapore (IE and SPRING before 1 April 2018).\\n\\n\\n\\n1.  All female officers (single/married) will be eligible for Maternity Leave (ML), if:\\n\\nShe has been working with the organisation for a continuous duration of at least 3 months prior to the date of confinement.\\n\\nShe is still in service*; and\\n\\nThe child is born on/after 1 January 2017\\n\\n\\n\\n* An officer who is on maternity leave may tender her resignation and serve out her notice of resignation concurrently with maternity leave. The maternity leave will cease after the last day of service. \\n\\n\\n\\n Eligibility \\n\\nIf the child is a Singapore Citizen at the time of birth:\\n\\n The female officer will be eligible for 16 weeks of full pay ML (first 8 weeks must be taken consecutively) for all her confinements.\\n\\n\\n\\n If the child is not a Singapore Citizen at the time of birth:\\n\\nThe female officer will be eligible for 12 weeks of ML (of which the first 8 weeks will be on full pay, and subsequent 4 weeks no pay) for her first or second confinements (excluding legally adopted children or step children)*.\\n\\n* if she already has two or more children as a result of multiple births at the first confinement, she will also qualify for maternity leave for the second confinement).\\n\\n\\n\\nThe 4 weeks beyond the first 8 consecutive weeks of ML may be taken flexibly over a 12-month period from the birth of the child, subjected to mutual agreement between the organisation and the officer.\\n\\n The female officer\\'s 12 weeks of ML (point #3) will be converted to 16 weeks of full pay ML, should the child becomes Singapore Citizen before attaining 12 months of age.\\n\\n\\n\\n\\n\\n\\n\\n\\n\\nThe period of full pay ML will depend on when the child becomes a Singapore Citizen;\\n\\nIf the above criteria is met within the first 8 weeks of confinement, the female officer will be eligible for the remainder of the first 8 weeks (to be taken continuously) and another 8 weeks of paid ML.', metadata={'filename': './data/DRAFT 1_Maternity Leave Information.docx', 'source': './data/DRAFT 1_Maternity Leave Information.docx'}),\n",
       " Document(page_content=\"If the above criteria is met within the first 8 weeks of confinement, the female officer will be eligible for the remainder of the first 8 weeks (to be taken continuously) and another 8 weeks of paid ML.\\n\\nIf the above criteria is met after 8 weeks of the confinement, the officer may be granted up to 8 weeks of full pay ML, which may be taken flexibly over a 12-month period from the birth of the child, subject to mutual agreement between the Reporting Officer and the officer.\\u200b\\n\\nThere will be no retrospective payment for any ML (last 4 weeks of no pay ML) taken before the child obtains Singapore Citizenship.  \\n\\n\\n\\n \\n\\n\\n\\nNot Eligible for Maternity Leave (ML)\\n\\nA female officer is not eligible for paid ML, if:\\n\\nHer date of appointment is at least 3 months preceding the date of confinement,\\n\\nThe child is not a Singapore Citizen at the time of birth and is her third or subsequent confinements (excluding legally adopted children or step children)\\u200b\\n\\nThe female officer who is not eligible for paid ML may be granted her vacation leave (including deferred leave) and/or no-pay maternity leave (of up to 12 weeks) if she applies for such leave at least 1 week in advance of the commencement of the leave and informs her supervisor of the date on which she was confined as soon as practicable. The period of no-pay maternity leave will count towards an officer's Years-In-Service and earn service benefits (i.e. leave and medical benefits).\\n\\nOfficers who are not eligible for paid ML will not be granted full-pay sick leave within the 8 weeks, immediately after confinement, unless her illness is not related to the confinement\\n\\n\\n\\n\\n\\n\\n\\nMaternity Leave Entitlement for Female Officers on No Pay Leave\\n\\nFemale Officers on No Pay Leave (NPL) will not be eligible for Maternity Leave (ML) during her NPL but she will be granted the remainder of the ML provision when she returns to work at the end of her NPL summarised as below:\\n\\n\\n\\nOfficers whose NPL end within the first 8 weeks from the date of the birth of the child would be granted paid ML for the remaining period of the first 8 weeks plus 4 or 8 weeks of EML, to be taken within 12 months from the date of the birth of the child.\", metadata={'filename': './data/DRAFT 1_Maternity Leave Information.docx', 'source': './data/DRAFT 1_Maternity Leave Information.docx'}),\n",
       " Document(page_content='Officers whose NPL end after the first 8 weeks from the date of the birth of the child would be granted the remainder of the 4 or 8 weeks of EML, to be taken within 12 months from the date of the birth of the child. Any remaining EML not taken within this period will be forfeited.\\n\\n\\n\\n\\n\\nProcedure\\n\\nOfficers are to inform their HR Business Partner of their EDD and the planned start date of your ML (can be up to 4 weeks before EDD or upon delivery, please see diagram below).\\n\\nSubmit to HR Business Partner their Doctor\\'s Certification indicating the officer\\'s EDD\\n\\nInform your HR Business Partner of your ML plan (length of period to be taken consecutively after confinement)\\n\\nThe first 8 weeks of the ML (known in ESS as Maternity Leave) has to be taken consecutively.\\n\\n\\n\\nThe remaining 8 weeks of the ML (known in ESS as Extended Maternity Leave), or 4 weeks of the no pay ML (known in ESS as No Pay Maternity Leave) can be taken flexibly over a \\u200b12-month period from the child\\'s birth. An officer who wishes to take the remaining ML flexibly (i.e. returning to work) should discuss the arrangements with her supervisor early so that the necessary arrangements can be made. The period of Extended Maternity Leave or No Pay Maternity Leave will count towards the officer\\'s Years-In Service.\\u200b\\n\\n\\n\\nWhere appropriate, please be reminded to set up your Delegation via the \"My Delegations\" task in Workday for covering arrangement\\u200b during your maternity leave.\\n\\n\\n\\n\\n\\n\\n\\n\\n\\n\\n\\n\\n\\n\\nFrequently Asked Questions:\\n\\nQ1: I am a single/unmarried mother of a Singapore Citizen child. Apart from this, I meet all other eligible criteria for Maternity Leave. Am I eligible for the extended Government-Paid Maternity Leave?\\n\\nAnswer: If your Singapore Citizen child is born on/after 1 January 2017, you\\'ll be eligible for the full 16 weeks Maternity Leave.  If your child is born before 1 January 2017, you are entitled to 12 weeks of Maternity Leave. However, should you marry the child\\'s father within 12 months from the birth of the child, you will be eligible for the remaining extended maternity leave (4 weeks) in that year.', metadata={'filename': './data/DRAFT 1_Maternity Leave Information.docx', 'source': './data/DRAFT 1_Maternity Leave Information.docx'})]"
      ]
     },
     "execution_count": 5,
     "metadata": {},
     "output_type": "execute_result"
    }
   ],
   "source": [
    "from langchain_openai import OpenAIEmbeddings\n",
    "from langchain_community.vectorstores import Chroma\n",
    "\n",
    "#you can use absolute paths - because python can call from anywhere\n",
    "persist_directory = \"chroma_db\"\n",
    "embeddings_model = OpenAIEmbeddings(model='text-embedding-3-small')\n",
    "\n",
    "loaded_vectorstore = Chroma(persist_directory=persist_directory,\n",
    "                            embedding_function=embeddings_model,\n",
    "                            collection_name=\"maternity\"\n",
    "                            )\n",
    "loaded_vectorstore.similarity_search(\"leave\")"
   ]
  },
  {
   "cell_type": "code",
   "execution_count": 15,
   "metadata": {},
   "outputs": [
    {
     "data": {
      "text/plain": [
       "[Collection(name=maternity), Collection(name=langchain)]"
      ]
     },
     "execution_count": 15,
     "metadata": {},
     "output_type": "execute_result"
    }
   ],
   "source": [
    "import chromadb\n",
    "\n",
    "# Need to test that if chromadb is used, all of from langchain_community.vectorstores import Chroma\n",
    "# can still work properly\n",
    "\n",
    "client = chromadb.PersistentClient(path=\"chroma_db\")\n",
    "client.list_collections()"
   ]
  },
  {
   "cell_type": "code",
   "execution_count": 4,
   "metadata": {},
   "outputs": [
    {
     "name": "stderr",
     "output_type": "stream",
     "text": [
      "Insert of existing embedding ID: 1\n",
      "Insert of existing embedding ID: 2\n",
      "Insert of existing embedding ID: 3\n",
      "Add of existing embedding ID: 1\n",
      "Add of existing embedding ID: 2\n",
      "Add of existing embedding ID: 3\n"
     ]
    },
    {
     "name": "stdout",
     "output_type": "stream",
     "text": [
      "There are 3 in the collection\n"
     ]
    }
   ],
   "source": [
    "import chromadb\n",
    "\n",
    "persistent_client = chromadb.PersistentClient()\n",
    "collection = persistent_client.get_or_create_collection(\"collection_name\")\n",
    "collection.add(ids=[\"1\", \"2\", \"3\"], documents=[\"a\", \"b\", \"c\"])\n",
    "\n",
    "langchain_chroma = Chroma(\n",
    "    client=persistent_client,\n",
    "    collection_name=\"collection_name\",\n",
    "    embedding_function=embeddings_model,\n",
    ")\n",
    "\n",
    "print(\"There are\", langchain_chroma._collection.count(), \"in the collection\")"
   ]
  },
  {
   "cell_type": "code",
   "execution_count": 1,
   "metadata": {},
   "outputs": [
    {
     "ename": "NameError",
     "evalue": "name 'loaded_vectorstore' is not defined",
     "output_type": "error",
     "traceback": [
      "\u001b[1;31m---------------------------------------------------------------------------\u001b[0m",
      "\u001b[1;31mNameError\u001b[0m                                 Traceback (most recent call last)",
      "Cell \u001b[1;32mIn[1], line 1\u001b[0m\n\u001b[1;32m----> 1\u001b[0m retreiver \u001b[38;5;241m=\u001b[39m \u001b[43mloaded_vectorstore\u001b[49m\u001b[38;5;241m.\u001b[39mas_retriever()\n\u001b[0;32m      2\u001b[0m retreiver\u001b[38;5;241m.\u001b[39minvoke(\u001b[38;5;124m'\u001b[39m\u001b[38;5;124mleave\u001b[39m\u001b[38;5;124m'\u001b[39m)\n",
      "\u001b[1;31mNameError\u001b[0m: name 'loaded_vectorstore' is not defined"
     ]
    }
   ],
   "source": [
    "retreiver = loaded_vectorstore.as_retriever()\n",
    "retreiver.invoke('leave')"
   ]
  },
  {
   "cell_type": "code",
   "execution_count": 2,
   "metadata": {},
   "outputs": [
    {
     "name": "stdout",
     "output_type": "stream",
     "text": [
      "Folder exists\n"
     ]
    }
   ],
   "source": [
    "import os\n",
    "\n",
    "folder_path = 'chroma_db'\n",
    "\n",
    "if os.path.isdir(folder_path):\n",
    "    print(\"Folder exists\")\n",
    "else:\n",
    "    print(\"Folder does not exist\")\n"
   ]
  },
  {
   "cell_type": "code",
   "execution_count": null,
   "metadata": {},
   "outputs": [],
   "source": []
  }
 ],
 "metadata": {
  "kernelspec": {
   "display_name": "venv",
   "language": "python",
   "name": "python3"
  },
  "language_info": {
   "codemirror_mode": {
    "name": "ipython",
    "version": 3
   },
   "file_extension": ".py",
   "mimetype": "text/x-python",
   "name": "python",
   "nbconvert_exporter": "python",
   "pygments_lexer": "ipython3",
   "version": "3.9.5"
  }
 },
 "nbformat": 4,
 "nbformat_minor": 2
}
